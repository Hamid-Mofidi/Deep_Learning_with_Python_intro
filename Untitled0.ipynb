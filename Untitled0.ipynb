{
  "nbformat": 4,
  "nbformat_minor": 0,
  "metadata": {
    "colab": {
      "provenance": [],
      "authorship_tag": "ABX9TyO8qkKPtxD692Sb3izMPJQa",
      "include_colab_link": true
    },
    "kernelspec": {
      "name": "python3",
      "display_name": "Python 3"
    },
    "language_info": {
      "name": "python"
    }
  },
  "cells": [
    {
      "cell_type": "markdown",
      "metadata": {
        "id": "view-in-github",
        "colab_type": "text"
      },
      "source": [
        "<a href=\"https://colab.research.google.com/github/Hamid-Mofidi/Python_Intro/blob/main/Untitled0.ipynb\" target=\"_parent\"><img src=\"https://colab.research.google.com/assets/colab-badge.svg\" alt=\"Open In Colab\"/></a>"
      ]
    },
    {
      "cell_type": "markdown",
      "source": [
        " **Python** is a popular programming language that was created by Guido van Rossum and released in 1991. It is used for various purposes, such as web development, software development, data analysis, machine learning, etc. \n",
        "\n",
        "Python has a simple and readable syntax that is similar to the English language. It also has many built-in libraries and modules that provide a lot of functionality and features. Python is an interpreted language, meaning that it can run the code without compiling it first. It also supports multiple programming paradigms, such as procedural, object-oriented, and functional. \n",
        "\n",
        "Python can help you learn **machine learning** because it has many libraries and frameworks that are designed for machine learning, such as **NumPy, SciPy, pandas, scikit-learn, TensorFlow, PyTorch**, etc. These libraries and frameworks make it easy to perform data manipulation, visualization, preprocessing, modeling, training, testing, and deployment of machine learning models. Python also has a large and active community of developers and researchers who contribute to the development and improvement of these libraries and frameworks.\n"
      ],
      "metadata": {
        "id": "W8AW2Io9Cr_k"
      }
    },
    {
      "cell_type": "code",
      "source": [
        "# this code cell inspects the values of the variables\n",
        "a = 4\n",
        "b = 5\n",
        "print(a) # print out a\n",
        "b  # print out b. For the last term, we do not need to write \"print...\""
      ],
      "metadata": {
        "colab": {
          "base_uri": "https://localhost:8080/"
        },
        "id": "Sm2YB1zxR5Dx",
        "outputId": "5d03f189-18c5-442c-8484-83adf322dbe2"
      },
      "execution_count": null,
      "outputs": [
        {
          "output_type": "stream",
          "name": "stdout",
          "text": [
            "4\n"
          ]
        },
        {
          "output_type": "execute_result",
          "data": {
            "text/plain": [
              "5"
            ]
          },
          "metadata": {},
          "execution_count": 13
        }
      ]
    },
    {
      "cell_type": "code",
      "source": [
        "c = 7\n",
        "d = 7.0\n",
        "type(c) # Running this cell just shows type of \"d\" (the last statement) but not \"c\"\n",
        "type(d)"
      ],
      "metadata": {
        "colab": {
          "base_uri": "https://localhost:8080/"
        },
        "id": "MMsbHKUPTgN-",
        "outputId": "f6e03951-266d-4757-af48-bb778347b9b9"
      },
      "execution_count": null,
      "outputs": [
        {
          "output_type": "execute_result",
          "data": {
            "text/plain": [
              "float"
            ]
          },
          "metadata": {},
          "execution_count": 15
        }
      ]
    },
    {
      "cell_type": "code",
      "source": [
        "aVariableName = 'hello' # ' ' not common\n",
        "User_name     = \"My name is Hamid\"  # \" \" more common. \n",
        "# All of the characters that are on top of the numbers on keyboard are not \n",
        "# allowed in variable names with the exception of underscore _ (even space is not allowed)\n",
        "\n",
        "print(User_name)\n",
        "type(User_name)\n"
      ],
      "metadata": {
        "colab": {
          "base_uri": "https://localhost:8080/"
        },
        "id": "FaYdDEO-UBP0",
        "outputId": "709992c8-527a-45a4-cddf-8f9be51e7208"
      },
      "execution_count": null,
      "outputs": [
        {
          "output_type": "stream",
          "name": "stdout",
          "text": [
            "My name is Hamid\n"
          ]
        },
        {
          "output_type": "execute_result",
          "data": {
            "text/plain": [
              "str"
            ]
          },
          "metadata": {},
          "execution_count": 30
        }
      ]
    },
    {
      "cell_type": "code",
      "source": [
        "%whos \n",
        "# shows a list of the variable names that we've created with their types\n"
      ],
      "metadata": {
        "colab": {
          "base_uri": "https://localhost:8080/"
        },
        "id": "vuTBA0tJW0vO",
        "outputId": "b2c4407e-e5d4-4913-f969-5bbf90fbeb74"
      },
      "execution_count": null,
      "outputs": [
        {
          "output_type": "stream",
          "name": "stdout",
          "text": [
            "Variable        Type     Data/Info\n",
            "----------------------------------\n",
            "User_name       str      My name is Hamid\n",
            "a               int      4\n",
            "aVariableName   str      hello\n",
            "b               int      5\n",
            "c               int      7\n",
            "d               float    7.0\n",
            "e               str      hello\n",
            "f               str      My name is Hamid\n"
          ]
        }
      ]
    },
    {
      "cell_type": "code",
      "source": [
        "# Single assignment \n",
        "varA = 4\n",
        "varB = \"test\"\n",
        "\n",
        "print(varA)\n",
        "print(varB)\n",
        "\n",
        "# Multiple assignment\n",
        "varC, varD =  5, \"test2\"\n",
        "\n",
        "print(varC)\n",
        "print(varD)"
      ],
      "metadata": {
        "colab": {
          "base_uri": "https://localhost:8080/"
        },
        "id": "PnBIwWdBXfOf",
        "outputId": "557f97da-b877-473e-89c5-5f78c16af5d7"
      },
      "execution_count": null,
      "outputs": [
        {
          "output_type": "stream",
          "name": "stdout",
          "text": [
            "4\n",
            "test\n",
            "5\n",
            "test2\n"
          ]
        }
      ]
    },
    {
      "cell_type": "code",
      "source": [
        "# Exercise!\n",
        "# Can we overwrite existing variables?\n",
        "#   - using the same variable type\n",
        "#   - using different variable type\n",
        "\n",
        "# The answer is \"YES\" (for both)"
      ],
      "metadata": {
        "id": "8KBwl1NfZHGc"
      },
      "execution_count": null,
      "outputs": []
    },
    {
      "cell_type": "code",
      "source": [
        "6/3  # forward slash is for dividing\n",
        "a = 1 + 3 \\\n",
        "+ 4\n",
        "\n",
        "print(a)  # a backslash (\\) is a line continuation character. \n",
        "   # If a backslash is placed at the end of a line, \n",
        "   # it is considered that the line is continued on the next line.\n",
        "\n",
        "b = ( 5 + 6 - \n",
        "       2)\n",
        "\n",
        "b # the preferred way of wrapping long lines is by using \n",
        " # Python's implied line continuation inside parentheses, brackets and braces"
      ],
      "metadata": {
        "colab": {
          "base_uri": "https://localhost:8080/"
        },
        "id": "8yHSNnJFZvc5",
        "outputId": "1ff68469-fc7f-4842-d0cf-f44abdf88872"
      },
      "execution_count": null,
      "outputs": [
        {
          "output_type": "stream",
          "name": "stdout",
          "text": [
            "8\n"
          ]
        },
        {
          "output_type": "execute_result",
          "data": {
            "text/plain": [
              "9"
            ]
          },
          "metadata": {},
          "execution_count": 61
        }
      ]
    },
    {
      "cell_type": "code",
      "source": [
        "print(3 * 5)\n",
        "print(3 ** 2)\n",
        "print (9 ** 1/2)\n",
        "print(9 ** .5)\n",
        "print(9 ** (1/2))"
      ],
      "metadata": {
        "colab": {
          "base_uri": "https://localhost:8080/"
        },
        "id": "WOZVQe7jd7Jp",
        "outputId": "e91e0c9b-7f94-4fc4-a9eb-8a7c2da879f5"
      },
      "execution_count": null,
      "outputs": [
        {
          "output_type": "stream",
          "name": "stdout",
          "text": [
            "15\n",
            "9\n",
            "4.5\n",
            "3.0\n",
            "3.0\n"
          ]
        }
      ]
    },
    {
      "cell_type": "code",
      "source": [
        "#Overloading\n",
        "x = 7 \n",
        "y =4.3\n",
        "My_first_name  = \"Hamid\"\n",
        "My_family_name = \"Mofidi\"\n",
        "\n",
        "print(My_first_name + ' ' + My_family_name) # additions are for concatenating the strings\n",
        "print (\"x+y = 11\")\n",
        "print (x+y)\n",
        "# print (x + '+' + y '=' x+y)   # we cannot use the plus sign for combining \"int\" and \"str\"\n",
        "print(str(x) + '+' + str(y) + '=' + str(x+y) )\n",
        "print(str(x) + ' ' + '+' + ' ' + str(y) +  '=' + ' ' +  str(x+y) )"
      ],
      "metadata": {
        "colab": {
          "base_uri": "https://localhost:8080/"
        },
        "id": "nwIkyN-9eEMd",
        "outputId": "46a2b908-d899-492d-a364-884a30a63199"
      },
      "execution_count": null,
      "outputs": [
        {
          "output_type": "stream",
          "name": "stdout",
          "text": [
            "Hamid Mofidi\n",
            "x+y = 11\n",
            "11.3\n",
            "7+4.3=11.3\n",
            "7 + 4.3= 11.3\n"
          ]
        }
      ]
    },
    {
      "cell_type": "code",
      "source": [
        "# 'input' allows Python to input a value from user\n",
        "\n",
        "Inp_Num0 = input('Give me a number: ')\n",
        "Inp_Num1 = float(input('Give me another number: '))"
      ],
      "metadata": {
        "colab": {
          "base_uri": "https://localhost:8080/"
        },
        "id": "T6R4lirukPsC",
        "outputId": "494faa91-e4e2-4dd1-c854-701183419090"
      },
      "execution_count": null,
      "outputs": [
        {
          "name": "stdout",
          "output_type": "stream",
          "text": [
            "Give me a number: 10\n",
            "Give me another number: 15\n"
          ]
        }
      ]
    },
    {
      "cell_type": "code",
      "source": [
        "print(Inp_Num0)\n",
        "print(Inp_Num1)\n",
        "print(type(Inp_Num0))\n",
        "print(type(Inp_Num1))\n",
        "Inp_Num2 = float(Inp_Num0)\n",
        "print(type(Inp_Num2))\n",
        "#Inp_Num0 + 4  does not make sense bcs Inp_Num0 is 'str'\n",
        "print(Inp_Num1 + 5)\n"
      ],
      "metadata": {
        "colab": {
          "base_uri": "https://localhost:8080/"
        },
        "id": "xosN__wrlIQz",
        "outputId": "3687c9c7-4159-4235-89de-18046be1cbc7"
      },
      "execution_count": null,
      "outputs": [
        {
          "output_type": "stream",
          "name": "stdout",
          "text": [
            "10\n",
            "15.0\n",
            "<class 'str'>\n",
            "<class 'float'>\n",
            "<class 'float'>\n",
            "20.0\n"
          ]
        }
      ]
    },
    {
      "cell_type": "code",
      "source": [
        "# Making Lists\n",
        "alist = [ 2, 3, 4, 'hi', ['bye', 3, 3.4], -10.2] #you should used ',' to separate the elements of a list. You cannot use ';' or empty space\n",
        "print(type(alist))\n",
        "print(alist[0])\n",
        "print(type(alist[0]))\n",
        "print(alist[3])\n",
        "print(type(alist[3]))\n",
        "print(alist[4])\n",
        "print(type(alist[4]))\n",
        "\n",
        "list2= [4,\n",
        "        1, # a number\n",
        "        2,\n",
        "        'hi',\n",
        "        [1,2,3], # this is a list\n",
        "        4.5\n",
        "        ]\n",
        "type(list2)"
      ],
      "metadata": {
        "colab": {
          "base_uri": "https://localhost:8080/"
        },
        "id": "IGuheQ2s266k",
        "outputId": "da4bc09b-fac1-4019-fb21-81b7dcbfc1c0"
      },
      "execution_count": null,
      "outputs": [
        {
          "output_type": "stream",
          "name": "stdout",
          "text": [
            "<class 'list'>\n",
            "2\n",
            "<class 'int'>\n",
            "hi\n",
            "<class 'str'>\n",
            "['bye', 3, 3.4]\n",
            "<class 'list'>\n"
          ]
        },
        {
          "output_type": "execute_result",
          "data": {
            "text/plain": [
              "list"
            ]
          },
          "metadata": {},
          "execution_count": 124
        }
      ]
    },
    {
      "cell_type": "code",
      "source": [
        "print(3 in alist)\n",
        "print(3.3 not in alist)\n",
        "print(alist*2)\n",
        "print(alist + list2)\n",
        "print(len(alist))\n",
        "5 in alist\n"
      ],
      "metadata": {
        "colab": {
          "base_uri": "https://localhost:8080/"
        },
        "id": "rZCShMgI4xJz",
        "outputId": "d69cc48f-098d-43fb-9b7a-36b36c7f8977"
      },
      "execution_count": null,
      "outputs": [
        {
          "output_type": "stream",
          "name": "stdout",
          "text": [
            "True\n",
            "True\n",
            "[2, 3, 4, 'hi', ['bye', 3, 3.4], -10.2, 2, 3, 4, 'hi', ['bye', 3, 3.4], -10.2]\n",
            "[2, 3, 4, 'hi', ['bye', 3, 3.4], -10.2, 4, 1, 2, 'hi', [1, 2, 3], 4.5]\n",
            "6\n"
          ]
        },
        {
          "output_type": "execute_result",
          "data": {
            "text/plain": [
              "False"
            ]
          },
          "metadata": {},
          "execution_count": 114
        }
      ]
    },
    {
      "cell_type": "code",
      "source": [
        "# method:\n",
        "# A 'method' in Python is a function that is associated with an object and can manipulate its data or perform actions on it\n",
        "# They are called using dot notation, with the object name followed by a period and the method name.\n",
        "lst= [2, -1, 2,  23, 4.5, 2, -5 ]\n",
        "\n",
        "lst.append(18)\n",
        "print(lst)\n",
        "\n",
        "lst.insert(3,2.5) #it finds the third element which is 2, and put 2.5 after 2.\n",
        "print(lst)\n",
        "\n",
        "lst.sort()\n",
        "print(lst)\n",
        "\n",
        "lst.sort(reverse=True)\n",
        "print(lst)\n",
        "\n",
        "lst.remove(2)\n",
        "print(lst)\n",
        "\n",
        "print(lst.count(-3))\n",
        "lst.count(2)"
      ],
      "metadata": {
        "colab": {
          "base_uri": "https://localhost:8080/"
        },
        "id": "iVn-ELpj5_tN",
        "outputId": "9ae42e49-4785-4a7c-afdc-52aa883ac2dd"
      },
      "execution_count": null,
      "outputs": [
        {
          "output_type": "stream",
          "name": "stdout",
          "text": [
            "[2, -1, 2, 23, 4.5, 2, -5, 18]\n",
            "[2, -1, 2, 2.5, 23, 4.5, 2, -5, 18]\n",
            "[-5, -1, 2, 2, 2, 2.5, 4.5, 18, 23]\n",
            "[23, 18, 4.5, 2.5, 2, 2, 2, -1, -5]\n",
            "[23, 18, 4.5, 2.5, 2, 2, -1, -5]\n",
            "0\n"
          ]
        },
        {
          "output_type": "execute_result",
          "data": {
            "text/plain": [
              "2"
            ]
          },
          "metadata": {},
          "execution_count": 14
        }
      ]
    },
    {
      "cell_type": "markdown",
      "source": [
        "**Tuple:**\n",
        "A tuple in Python is created by placing a sequence of values separated by commas with or without the use of parentheses for grouping the data sequence. A tuple is similar to a list in some ways, such as indexing, nested objects, and repetition, but the main difference is that a tuple is immutable, meaning that it cannot be changed once it is created."
      ],
      "metadata": {
        "id": "Omeaw1Lu86Ub"
      }
    },
    {
      "cell_type": "code",
      "source": [
        "atuple = (2, 3, 'hi')\n",
        "btuple = -1, 3, 'hey'\n",
        "ctuple = [4, -1, 'bye'] #this is a list, not a tuple\n",
        "\n",
        "print(atuple)\n",
        "print(type(atuple))\n",
        "print(btuple)\n",
        "print(type(btuple))\n",
        "print(ctuple)\n",
        "print(type(ctuple))"
      ],
      "metadata": {
        "colab": {
          "base_uri": "https://localhost:8080/"
        },
        "id": "69BmHRwu-uGL",
        "outputId": "164b01cc-5f24-495a-b262-ace6081643bf"
      },
      "execution_count": null,
      "outputs": [
        {
          "output_type": "stream",
          "name": "stdout",
          "text": [
            "(2, 3, 'hi')\n",
            "<class 'tuple'>\n",
            "(-1, 3, 'hey')\n",
            "<class 'tuple'>\n",
            "[4, -1, 'bye']\n",
            "<class 'list'>\n"
          ]
        }
      ]
    }
  ]
}