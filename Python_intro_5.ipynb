{
  "nbformat": 4,
  "nbformat_minor": 0,
  "metadata": {
    "colab": {
      "provenance": [],
      "authorship_tag": "ABX9TyNec5mDBiiTkPtaJmpMR9bZ",
      "include_colab_link": true
    },
    "kernelspec": {
      "name": "python3",
      "display_name": "Python 3"
    },
    "language_info": {
      "name": "python"
    }
  },
  "cells": [
    {
      "cell_type": "markdown",
      "metadata": {
        "id": "view-in-github",
        "colab_type": "text"
      },
      "source": [
        "<a href=\"https://colab.research.google.com/github/Hamid-Mofidi/Python_Intro/blob/main/Python_intro_5.ipynb\" target=\"_parent\"><img src=\"https://colab.research.google.com/assets/colab-badge.svg\" alt=\"Open In Colab\"/></a>"
      ]
    },
    {
      "cell_type": "code",
      "execution_count": 20,
      "metadata": {
        "id": "hLrLDoHtlxBZ"
      },
      "outputs": [],
      "source": [
        "import numpy as np\n",
        "import matplotlib.pyplot as plt\n",
        "import torch\n"
      ]
    },
    {
      "cell_type": "code",
      "source": [
        "# Sampling\n",
        "\n",
        "# create a list of numbers\n",
        "\n",
        "x = [ 1, 2, 4, 6 , 5, 4, 0, -4, 5, -2, 6, 10, -9, 1, 3, -6 ]\n",
        "n = len(x)\n",
        "\n",
        "# compute the population mean\n",
        "popmean = np.mean(x)\n",
        "\n",
        "# compute a sample mean\n",
        "sample   = np.random.choice(x, size=5, replace=True)\n",
        "sampmean = np.mean(sample)\n",
        "\n",
        "# print\n",
        "print('Popmean:', popmean)\n",
        "print('Sample mean:', sampmean)"
      ],
      "metadata": {
        "colab": {
          "base_uri": "https://localhost:8080/"
        },
        "id": "-1HJD_zcnE00",
        "outputId": "f4038bec-2192-45a3-9da2-70cb044f5b48"
      },
      "execution_count": 8,
      "outputs": [
        {
          "output_type": "stream",
          "name": "stdout",
          "text": [
            "Popmean: 1.625\n",
            "Sample mean: 0.4\n"
          ]
        }
      ]
    },
    {
      "cell_type": "code",
      "source": [
        "# Sampling with large data\n",
        "\n",
        "x = [ 1, 2, 4, 6 , 5, 4, 0, -4, 5, -2, 6, 10, -9, 1, 3, -6 ]\n",
        "nExpers = 10000\n",
        "samplemeans =  np.zeros(nExpers)\n",
        "for i in range(nExpers):\n",
        "  # step 1: draw a sample\n",
        "  sample  = np.random.choice(x,size=5,replace=True)\n",
        "  # step 2: compute its mean\n",
        "  samplemeans[i] = np.mean(sample)\n",
        "# show the results as a histogram\n",
        "plt.hist(samplemeans, bins=40, density=True)\n",
        "plt.plot([popmean, popmean], [0, .3], 'm--')\n",
        "plt.ylabel('Count')\n",
        "plt.xlabel('Sample mean')\n",
        "plt.show()"
      ],
      "metadata": {
        "colab": {
          "base_uri": "https://localhost:8080/",
          "height": 449
        },
        "id": "prT9I6_7o35X",
        "outputId": "5c96b740-f57f-49d4-8b84-f6a0c234d5d3"
      },
      "execution_count": 15,
      "outputs": [
        {
          "output_type": "display_data",
          "data": {
            "text/plain": [
              "<Figure size 640x480 with 1 Axes>"
            ],
            "image/png": "[encoded data removed]"
          },
          "metadata": {}
        }
      ]
    },
    {
      "cell_type": "code",
      "source": [
        "# Reproducible randomness via seeding\n",
        "print(np.random.randn(5))\n"
      ],
      "metadata": {
        "colab": {
          "base_uri": "https://localhost:8080/"
        },
        "id": "PhCYbcyCsvvS",
        "outputId": "99c60293-934d-4a8a-d7b3-bdcabe5da113"
      },
      "execution_count": 36,
      "outputs": [
        {
          "output_type": "stream",
          "name": "stdout",
          "text": [
            "[-0.9822943   1.03126909  0.49133378 -0.4466466  -0.80636008]\n"
          ]
        }
      ]
    },
    {
      "cell_type": "code",
      "source": [
        "# Old method: \n",
        "# repeating after fixing the seed (old, but still widely used method)\n",
        "np.random.seed(17)\n",
        "print(np.random.randn(5))\n",
        "print(np.random.randn(5))"
      ],
      "metadata": {
        "colab": {
          "base_uri": "https://localhost:8080/"
        },
        "id": "JUoH0_QmujV9",
        "outputId": "77cecd3c-0f1f-48f8-fc32-238026025849"
      },
      "execution_count": 38,
      "outputs": [
        {
          "output_type": "stream",
          "name": "stdout",
          "text": [
            "[ 0.27626589 -1.85462808  0.62390111  1.14531129  1.03719047]\n",
            "[ 1.88663893 -0.11169829 -0.36210134  0.14867505 -0.43778315]\n"
          ]
        }
      ]
    },
    {
      "cell_type": "code",
      "source": [
        "# New seed mechanism in numpy:\n",
        "\n",
        "randseed1 = np.random.RandomState(17)\n",
        "randseed2 = np.random.RandomState(20230517) #today date\n",
        "\n",
        "print( randseed1.randn(5) )  # same sequence\n",
        "print( randseed2.randn(5) )  # diff from above, but same each time\n",
        "print( randseed1.randn(5) )  # same as two up\n",
        "print( randseed2.randn(5) )  # same as two up\n",
        "\n",
        "print( np.random.randn(5) )  # different every time\n"
      ],
      "metadata": {
        "colab": {
          "base_uri": "https://localhost:8080/"
        },
        "id": "zP0kQ8MSuui2",
        "outputId": "903b0f88-163c-462c-a435-1375d2857dc8"
      },
      "execution_count": 42,
      "outputs": [
        {
          "output_type": "stream",
          "name": "stdout",
          "text": [
            "[ 0.27626589 -1.85462808  0.62390111  1.14531129  1.03719047]\n",
            "[ 1.02702576  0.61838581 -0.10170194  0.66414977  1.08452752]\n",
            "[ 1.88663893 -0.11169829 -0.36210134  0.14867505 -0.43778315]\n",
            "[-0.03054951 -0.73697171 -1.24036263 -0.8974199  -0.40873964]\n",
            "[ 0.13126776 -1.21256024  0.15999085 -0.75522304  0.34989599]\n"
          ]
        }
      ]
    },
    {
      "cell_type": "code",
      "source": [
        "# Using PyTorch\n",
        "\n",
        "torch.randn(5)"
      ],
      "metadata": {
        "colab": {
          "base_uri": "https://localhost:8080/"
        },
        "id": "XElUAygBwbaC",
        "outputId": "3c862ffe-7e5d-494c-e320-490b03d78f0f"
      },
      "execution_count": 44,
      "outputs": [
        {
          "output_type": "execute_result",
          "data": {
            "text/plain": [
              "tensor([ 1.5836, -1.8780, -0.2505,  0.3454,  0.9513])"
            ]
          },
          "metadata": {},
          "execution_count": 44
        }
      ]
    },
    {
      "cell_type": "code",
      "source": [
        "torch.manual_seed(22)\n",
        "print(torch.randn(5))\n",
        "\n",
        "# torch's seed does not spread to numpy\n",
        "print(np.random.randn(5))"
      ],
      "metadata": {
        "colab": {
          "base_uri": "https://localhost:8080/"
        },
        "id": "bJ-tFsJjwnga",
        "outputId": "28dc3fe6-2ebf-4093-d896-7c1e48c476e6"
      },
      "execution_count": 49,
      "outputs": [
        {
          "output_type": "stream",
          "name": "stdout",
          "text": [
            "tensor([ 1.0302, -0.5073, -0.1017,  1.3587, -3.0745])\n",
            "[ 0.86962384  0.56778309  0.46528234 -1.16537308 -2.03599479]\n"
          ]
        }
      ]
    }
  ]
}