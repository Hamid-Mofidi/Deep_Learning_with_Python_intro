{
  "nbformat": 4,
  "nbformat_minor": 0,
  "metadata": {
    "colab": {
      "provenance": [],
      "authorship_tag": "ABX9TyOXwO+Jvw55vXxA89UYC1i7",
      "include_colab_link": true
    },
    "kernelspec": {
      "name": "python3",
      "display_name": "Python 3"
    },
    "language_info": {
      "name": "python"
    }
  },
  "cells": [
    {
      "cell_type": "markdown",
      "metadata": {
        "id": "view-in-github",
        "colab_type": "text"
      },
      "source": [
        "<a href=\"https://colab.research.google.com/github/Hamid-Mofidi/Python_for_Deep_Learning/blob/main/Artificial-Neural-Networks/ANN_1.ipynb\" target=\"_parent\"><img src=\"https://colab.research.google.com/assets/colab-badge.svg\" alt=\"Open In Colab\"/></a>"
      ]
    },
    {
      "cell_type": "markdown",
      "source": [
        "## ANN for regression\n"
      ],
      "metadata": {
        "id": "mOdWA4-sKxU5"
      }
    },
    {
      "cell_type": "code",
      "source": [
        "# import libraries\n",
        "import numpy as np\n",
        "import torch\n",
        "import torch.nn as nn\n",
        "import matplotlib.pyplot as plt\n",
        "import matplotlib_inline.backend_inline\n",
        "matplotlib_inline.backend_inline.set_matplotlib_formats('svg')"
      ],
      "metadata": {
        "id": "UCOWnbs9K_ei"
      },
      "execution_count": 3,
      "outputs": []
    },
    {
      "cell_type": "code",
      "source": [
        "# create data\n",
        "\n",
        "N = 30\n",
        "x = torch.randn(N,1)\n",
        "y = x + torch.randn(N,1)/2\n",
        "\n",
        "# and plot\n",
        "plt.plot(x,y,'s')\n",
        "plt.show()"
      ],
      "metadata": {
        "colab": {
          "base_uri": "https://localhost:8080/",
          "height": 418
        },
        "id": "zw7NqcfRLIY6",
        "outputId": "e1718806-271d-46fd-b128-50346dfbd558"
      },
      "execution_count": 7,
      "outputs": [
        {
          "output_type": "display_data",
          "data": {
            "text/plain": [
              "<Figure size 640x480 with 1 Axes>"
            ],
            "image/svg+xml": "<?xml version=\"1.0\" encoding=\"utf-8\" standalone=\"no\"?>\n<!DOCTYPE svg PUBLIC \"-//W3C//DTD SVG 1.1//EN\"\n  \"http://www.w3.org/Graphics/SVG/1.1/DTD/svg11.dtd\">\n<svg xmlns:xlink=\"http://www.w3.org/1999/xlink\" width=\"393.262187pt\" height=\"297.190125pt\" viewBox=\"0 0 393.262187 297.190125\" xmlns=\"http://www.w3.org/2000/svg\" version=\"1.1\">\n <metadata>\n  <rdf:RDF xmlns:dc=\"http://purl.org/dc/elements/1.1/\" xmlns:cc=\"http://creativecommons.org/ns#\" xmlns:rdf=\"http://www.w3.org/1999/02/22-rdf-syntax-ns#\">\n   <cc:Work>\n    <dc:type rdf:resource=\"http://purl.org/dc/dcmitype/StillImage\"/>\n    <dc:date>2023-06-01T09:00:46.505933</dc:date>\n    <dc:format>image/svg+xml</dc:format>\n    <dc:creator>\n     <cc:Agent>\n      <dc:title>Matplotlib v3.7.1, https://matplotlib.org/</dc:title>\n     </cc:Agent>\n    </dc:creator>\n   </cc:Work>\n  </rdf:RDF>\n </metadata>\n <defs>\n  <style type=\"text/css\">*{stroke-linejoin: round; stroke-linecap: butt}</style>\n </defs>\n <g id=\"figure_1\">\n  <g id=\"patch_1\">\n   <path d=\"M 0 297.190125 \nL 393.262187 297.190125 \nL 393.262187 0 \nL 0 0 \nz\n\" style=\"fill: #ffffff\"/>\n  </g>\n  <g id=\"axes_1\">\n   <g id=\"patch_2\">\n    <path d=\"M 28.942188 273.312 \nL 386.062188 273.312 \nL 386.062188 7.2 \nL 28.942188 7.2 \nz\n\" style=\"fill: #ffffff\"/>\n   </g>\n   <g id=\"matplotlib.axis_1\">\n    <g id=\"xtick_1\">\n     <g id=\"line2d_1\">\n      <defs>\n       <path id=\"m2af6b08264\" d=\"M 0 0 \nL 0 3.5 \n\" style=\"stroke: #000000; stroke-width: 0.8\"/>\n      </defs>\n      <g>\n       <use xlink:href=\"#m2af6b08264\" x=\"60.299467\" y=\"273.312\" style=\"stroke: #000000; stroke-width: 0.8\"/>\n      </g>\n     </g>\n     <g id=\"text_1\">\n      <!-- −2.0 -->\n      <g transform=\"translate(48.15806 287.910437) scale(0.1 -0.1)\">\n       <defs>\n        <path id=\"DejaVuSans-2212\" d=\"M 678 2272 \nL 4684 2272 \nL 4684 1741 \nL 678 1741 \nL 678 2272 \nz\n\" transform=\"scale(0.015625)\"/>\n        <path id=\"DejaVuSans-32\" d=\"M 1228 531 \nL 3431 531 \nL 3431 0 \nL 469 0 \nL 469 531 \nQ 828 903 1448 1529 \nQ 2069 2156 2228 2338 \nQ 2531 2678 2651 2914 \nQ 2772 3150 2772 3378 \nQ 2772 3750 2511 3984 \nQ 2250 4219 1831 4219 \nQ 1534 4219 1204 4116 \nQ 875 4013 500 3803 \nL 500 4441 \nQ 881 4594 1212 4672 \nQ 1544 4750 1819 4750 \nQ 2544 4750 2975 4387 \nQ 3406 4025 3406 3419 \nQ 3406 3131 3298 2873 \nQ 3191 2616 2906 2266 \nQ 2828 2175 2409 1742 \nQ 1991 1309 1228 531 \nz\n\" transform=\"scale(0.015625)\"/>\n        <path id=\"DejaVuSans-2e\" d=\"M 684 794 \nL 1344 794 \nL 1344 0 \nL 684 0 \nL 684 794 \nz\n\" transform=\"scale(0.015625)\"/>\n        <path id=\"DejaVuSans-30\" d=\"M 2034 4250 \nQ 1547 4250 1301 3770 \nQ 1056 3291 1056 2328 \nQ 1056 1369 1301 889 \nQ 1547 409 2034 409 \nQ 2525 409 2770 889 \nQ 3016 1369 3016 2328 \nQ 3016 3291 2770 3770 \nQ 2525 4250 2034 4250 \nz\nM 2034 4750 \nQ 2819 4750 3233 4129 \nQ 3647 3509 3647 2328 \nQ 3647 1150 3233 529 \nQ 2819 -91 2034 -91 \nQ 1250 -91 836 529 \nQ 422 1150 422 2328 \nQ 422 3509 836 4129 \nQ 1250 4750 2034 4750 \nz\n\" transform=\"scale(0.015625)\"/>\n       </defs>\n       <use xlink:href=\"#DejaVuSans-2212\"/>\n       <use xlink:href=\"#DejaVuSans-32\" x=\"83.789062\"/>\n       <use xlink:href=\"#DejaVuSans-2e\" x=\"147.412109\"/>\n       <use xlink:href=\"#DejaVuSans-30\" x=\"179.199219\"/>\n      </g>\n     </g>\n    </g>\n    <g id=\"xtick_2\">\n     <g id=\"line2d_2\">\n      <g>\n       <use xlink:href=\"#m2af6b08264\" x=\"101.996458\" y=\"273.312\" style=\"stroke: #000000; stroke-width: 0.8\"/>\n      </g>\n     </g>\n     <g id=\"text_2\">\n      <!-- −1.5 -->\n      <g transform=\"translate(89.855052 287.910437) scale(0.1 -0.1)\">\n       <defs>\n        <path id=\"DejaVuSans-31\" d=\"M 794 531 \nL 1825 531 \nL 1825 4091 \nL 703 3866 \nL 703 4441 \nL 1819 4666 \nL 2450 4666 \nL 2450 531 \nL 3481 531 \nL 3481 0 \nL 794 0 \nL 794 531 \nz\n\" transform=\"scale(0.015625)\"/>\n        <path id=\"DejaVuSans-35\" d=\"M 691 4666 \nL 3169 4666 \nL 3169 4134 \nL 1269 4134 \nL 1269 2991 \nQ 1406 3038 1543 3061 \nQ 1681 3084 1819 3084 \nQ 2600 3084 3056 2656 \nQ 3513 2228 3513 1497 \nQ 3513 744 3044 326 \nQ 2575 -91 1722 -91 \nQ 1428 -91 1123 -41 \nQ 819 9 494 109 \nL 494 744 \nQ 775 591 1075 516 \nQ 1375 441 1709 441 \nQ 2250 441 2565 725 \nQ 2881 1009 2881 1497 \nQ 2881 1984 2565 2268 \nQ 2250 2553 1709 2553 \nQ 1456 2553 1204 2497 \nQ 953 2441 691 2322 \nL 691 4666 \nz\n\" transform=\"scale(0.015625)\"/>\n       </defs>\n       <use xlink:href=\"#DejaVuSans-2212\"/>\n       <use xlink:href=\"#DejaVuSans-31\" x=\"83.789062\"/>\n       <use xlink:href=\"#DejaVuSans-2e\" x=\"147.412109\"/>\n       <use xlink:href=\"#DejaVuSans-35\" x=\"179.199219\"/>\n      </g>\n     </g>\n    </g>\n    <g id=\"xtick_3\">\n     <g id=\"line2d_3\">\n      <g>\n       <use xlink:href=\"#m2af6b08264\" x=\"143.69345\" y=\"273.312\" style=\"stroke: #000000; stroke-width: 0.8\"/>\n      </g>\n     </g>\n     <g id=\"text_3\">\n      <!-- −1.0 -->\n      <g transform=\"translate(131.552043 287.910437) scale(0.1 -0.1)\">\n       <use xlink:href=\"#DejaVuSans-2212\"/>\n       <use xlink:href=\"#DejaVuSans-31\" x=\"83.789062\"/>\n       <use xlink:href=\"#DejaVuSans-2e\" x=\"147.412109\"/>\n       <use xlink:href=\"#DejaVuSans-30\" x=\"179.199219\"/>\n      </g>\n     </g>\n    </g>\n    <g id=\"xtick_4\">\n     <g id=\"line2d_4\">\n      <g>\n       <use xlink:href=\"#m2af6b08264\" x=\"185.390441\" y=\"273.312\" style=\"stroke: #000000; stroke-width: 0.8\"/>\n      </g>\n     </g>\n     <g id=\"text_4\">\n      <!-- −0.5 -->\n      <g transform=\"translate(173.249035 287.910437) scale(0.1 -0.1)\">\n       <use xlink:href=\"#DejaVuSans-2212\"/>\n       <use xlink:href=\"#DejaVuSans-30\" x=\"83.789062\"/>\n       <use xlink:href=\"#DejaVuSans-2e\" x=\"147.412109\"/>\n       <use xlink:href=\"#DejaVuSans-35\" x=\"179.199219\"/>\n      </g>\n     </g>\n    </g>\n    <g id=\"xtick_5\">\n     <g id=\"line2d_5\">\n      <g>\n       <use xlink:href=\"#m2af6b08264\" x=\"227.087432\" y=\"273.312\" style=\"stroke: #000000; stroke-width: 0.8\"/>\n      </g>\n     </g>\n     <g id=\"text_5\">\n      <!-- 0.0 -->\n      <g transform=\"translate(219.13587 287.910437) scale(0.1 -0.1)\">\n       <use xlink:href=\"#DejaVuSans-30\"/>\n       <use xlink:href=\"#DejaVuSans-2e\" x=\"63.623047\"/>\n       <use xlink:href=\"#DejaVuSans-30\" x=\"95.410156\"/>\n      </g>\n     </g>\n    </g>\n    <g id=\"xtick_6\">\n     <g id=\"line2d_6\">\n      <g>\n       <use xlink:href=\"#m2af6b08264\" x=\"268.784424\" y=\"273.312\" style=\"stroke: #000000; stroke-width: 0.8\"/>\n      </g>\n     </g>\n     <g id=\"text_6\">\n      <!-- 0.5 -->\n      <g transform=\"translate(260.832861 287.910437) scale(0.1 -0.1)\">\n       <use xlink:href=\"#DejaVuSans-30\"/>\n       <use xlink:href=\"#DejaVuSans-2e\" x=\"63.623047\"/>\n       <use xlink:href=\"#DejaVuSans-35\" x=\"95.410156\"/>\n      </g>\n     </g>\n    </g>\n    <g id=\"xtick_7\">\n     <g id=\"line2d_7\">\n      <g>\n       <use xlink:href=\"#m2af6b08264\" x=\"310.481415\" y=\"273.312\" style=\"stroke: #000000; stroke-width: 0.8\"/>\n      </g>\n     </g>\n     <g id=\"text_7\">\n      <!-- 1.0 -->\n      <g transform=\"translate(302.529853 287.910437) scale(0.1 -0.1)\">\n       <use xlink:href=\"#DejaVuSans-31\"/>\n       <use xlink:href=\"#DejaVuSans-2e\" x=\"63.623047\"/>\n       <use xlink:href=\"#DejaVuSans-30\" x=\"95.410156\"/>\n      </g>\n     </g>\n    </g>\n    <g id=\"xtick_8\">\n     <g id=\"line2d_8\">\n      <g>\n       <use xlink:href=\"#m2af6b08264\" x=\"352.178407\" y=\"273.312\" style=\"stroke: #000000; stroke-width: 0.8\"/>\n      </g>\n     </g>\n     <g id=\"text_8\">\n      <!-- 1.5 -->\n      <g transform=\"translate(344.226844 287.910437) scale(0.1 -0.1)\">\n       <use xlink:href=\"#DejaVuSans-31\"/>\n       <use xlink:href=\"#DejaVuSans-2e\" x=\"63.623047\"/>\n       <use xlink:href=\"#DejaVuSans-35\" x=\"95.410156\"/>\n      </g>\n     </g>\n    </g>\n   </g>\n   <g id=\"matplotlib.axis_2\">\n    <g id=\"ytick_1\">\n     <g id=\"line2d_9\">\n      <defs>\n       <path id=\"mf480ede3c6\" d=\"M 0 0 \nL -3.5 0 \n\" style=\"stroke: #000000; stroke-width: 0.8\"/>\n      </defs>\n      <g>\n       <use xlink:href=\"#mf480ede3c6\" x=\"28.942188\" y=\"244.540217\" style=\"stroke: #000000; stroke-width: 0.8\"/>\n      </g>\n     </g>\n     <g id=\"text_9\">\n      <!-- −2 -->\n      <g transform=\"translate(7.2 248.339435) scale(0.1 -0.1)\">\n       <use xlink:href=\"#DejaVuSans-2212\"/>\n       <use xlink:href=\"#DejaVuSans-32\" x=\"83.789062\"/>\n      </g>\n     </g>\n    </g>\n    <g id=\"ytick_2\">\n     <g id=\"line2d_10\">\n      <g>\n       <use xlink:href=\"#mf480ede3c6\" x=\"28.942188\" y=\"191.240252\" style=\"stroke: #000000; stroke-width: 0.8\"/>\n      </g>\n     </g>\n     <g id=\"text_10\">\n      <!-- −1 -->\n      <g transform=\"translate(7.2 195.039471) scale(0.1 -0.1)\">\n       <use xlink:href=\"#DejaVuSans-2212\"/>\n       <use xlink:href=\"#DejaVuSans-31\" x=\"83.789062\"/>\n      </g>\n     </g>\n    </g>\n    <g id=\"ytick_3\">\n     <g id=\"line2d_11\">\n      <g>\n       <use xlink:href=\"#mf480ede3c6\" x=\"28.942188\" y=\"137.940288\" style=\"stroke: #000000; stroke-width: 0.8\"/>\n      </g>\n     </g>\n     <g id=\"text_11\">\n      <!-- 0 -->\n      <g transform=\"translate(15.579688 141.739507) scale(0.1 -0.1)\">\n       <use xlink:href=\"#DejaVuSans-30\"/>\n      </g>\n     </g>\n    </g>\n    <g id=\"ytick_4\">\n     <g id=\"line2d_12\">\n      <g>\n       <use xlink:href=\"#mf480ede3c6\" x=\"28.942188\" y=\"84.640324\" style=\"stroke: #000000; stroke-width: 0.8\"/>\n      </g>\n     </g>\n     <g id=\"text_12\">\n      <!-- 1 -->\n      <g transform=\"translate(15.579688 88.439543) scale(0.1 -0.1)\">\n       <use xlink:href=\"#DejaVuSans-31\"/>\n      </g>\n     </g>\n    </g>\n    <g id=\"ytick_5\">\n     <g id=\"line2d_13\">\n      <g>\n       <use xlink:href=\"#mf480ede3c6\" x=\"28.942188\" y=\"31.34036\" style=\"stroke: #000000; stroke-width: 0.8\"/>\n      </g>\n     </g>\n     <g id=\"text_13\">\n      <!-- 2 -->\n      <g transform=\"translate(15.579688 35.139578) scale(0.1 -0.1)\">\n       <use xlink:href=\"#DejaVuSans-32\"/>\n      </g>\n     </g>\n    </g>\n   </g>\n   <g id=\"line2d_14\">\n    <defs>\n     <path id=\"m8a81ad14c5\" d=\"M -3 3 \nL 3 3 \nL 3 -3 \nL -3 -3 \nz\n\" style=\"stroke: #1f77b4; stroke-linejoin: miter\"/>\n    </defs>\n    <g clip-path=\"url(#pc08eb7907f)\">\n     <use xlink:href=\"#m8a81ad14c5\" x=\"60.985856\" y=\"252.50163\" style=\"fill: #1f77b4; stroke: #1f77b4; stroke-linejoin: miter\"/>\n     <use xlink:href=\"#m8a81ad14c5\" x=\"116.343409\" y=\"218.796129\" style=\"fill: #1f77b4; stroke: #1f77b4; stroke-linejoin: miter\"/>\n     <use xlink:href=\"#m8a81ad14c5\" x=\"45.174915\" y=\"261.216\" style=\"fill: #1f77b4; stroke: #1f77b4; stroke-linejoin: miter\"/>\n     <use xlink:href=\"#m8a81ad14c5\" x=\"183.042223\" y=\"139.699757\" style=\"fill: #1f77b4; stroke: #1f77b4; stroke-linejoin: miter\"/>\n     <use xlink:href=\"#m8a81ad14c5\" x=\"180.752777\" y=\"144.909524\" style=\"fill: #1f77b4; stroke: #1f77b4; stroke-linejoin: miter\"/>\n     <use xlink:href=\"#m8a81ad14c5\" x=\"245.640529\" y=\"123.581659\" style=\"fill: #1f77b4; stroke: #1f77b4; stroke-linejoin: miter\"/>\n     <use xlink:href=\"#m8a81ad14c5\" x=\"266.132473\" y=\"82.792573\" style=\"fill: #1f77b4; stroke: #1f77b4; stroke-linejoin: miter\"/>\n     <use xlink:href=\"#m8a81ad14c5\" x=\"242.889137\" y=\"146.024633\" style=\"fill: #1f77b4; stroke: #1f77b4; stroke-linejoin: miter\"/>\n     <use xlink:href=\"#m8a81ad14c5\" x=\"95.53443\" y=\"202.704684\" style=\"fill: #1f77b4; stroke: #1f77b4; stroke-linejoin: miter\"/>\n     <use xlink:href=\"#m8a81ad14c5\" x=\"91.919163\" y=\"183.301951\" style=\"fill: #1f77b4; stroke: #1f77b4; stroke-linejoin: miter\"/>\n     <use xlink:href=\"#m8a81ad14c5\" x=\"161.898588\" y=\"188.788168\" style=\"fill: #1f77b4; stroke: #1f77b4; stroke-linejoin: miter\"/>\n     <use xlink:href=\"#m8a81ad14c5\" x=\"116.587439\" y=\"249.304372\" style=\"fill: #1f77b4; stroke: #1f77b4; stroke-linejoin: miter\"/>\n     <use xlink:href=\"#m8a81ad14c5\" x=\"342.877301\" y=\"79.599376\" style=\"fill: #1f77b4; stroke: #1f77b4; stroke-linejoin: miter\"/>\n     <use xlink:href=\"#m8a81ad14c5\" x=\"191.3914\" y=\"186.426442\" style=\"fill: #1f77b4; stroke: #1f77b4; stroke-linejoin: miter\"/>\n     <use xlink:href=\"#m8a81ad14c5\" x=\"237.505278\" y=\"133.639402\" style=\"fill: #1f77b4; stroke: #1f77b4; stroke-linejoin: miter\"/>\n     <use xlink:href=\"#m8a81ad14c5\" x=\"232.578302\" y=\"111.17046\" style=\"fill: #1f77b4; stroke: #1f77b4; stroke-linejoin: miter\"/>\n     <use xlink:href=\"#m8a81ad14c5\" x=\"154.224035\" y=\"158.130758\" style=\"fill: #1f77b4; stroke: #1f77b4; stroke-linejoin: miter\"/>\n     <use xlink:href=\"#m8a81ad14c5\" x=\"293.616051\" y=\"85.69188\" style=\"fill: #1f77b4; stroke: #1f77b4; stroke-linejoin: miter\"/>\n     <use xlink:href=\"#m8a81ad14c5\" x=\"112.799044\" y=\"232.788007\" style=\"fill: #1f77b4; stroke: #1f77b4; stroke-linejoin: miter\"/>\n     <use xlink:href=\"#m8a81ad14c5\" x=\"369.82946\" y=\"19.296\" style=\"fill: #1f77b4; stroke: #1f77b4; stroke-linejoin: miter\"/>\n     <use xlink:href=\"#m8a81ad14c5\" x=\"199.668712\" y=\"152.90142\" style=\"fill: #1f77b4; stroke: #1f77b4; stroke-linejoin: miter\"/>\n     <use xlink:href=\"#m8a81ad14c5\" x=\"176.764169\" y=\"179.869013\" style=\"fill: #1f77b4; stroke: #1f77b4; stroke-linejoin: miter\"/>\n     <use xlink:href=\"#m8a81ad14c5\" x=\"259.398601\" y=\"130.946241\" style=\"fill: #1f77b4; stroke: #1f77b4; stroke-linejoin: miter\"/>\n     <use xlink:href=\"#m8a81ad14c5\" x=\"298.252914\" y=\"120.921651\" style=\"fill: #1f77b4; stroke: #1f77b4; stroke-linejoin: miter\"/>\n     <use xlink:href=\"#m8a81ad14c5\" x=\"212.473025\" y=\"149.39965\" style=\"fill: #1f77b4; stroke: #1f77b4; stroke-linejoin: miter\"/>\n     <use xlink:href=\"#m8a81ad14c5\" x=\"120.403451\" y=\"240.302071\" style=\"fill: #1f77b4; stroke: #1f77b4; stroke-linejoin: miter\"/>\n     <use xlink:href=\"#m8a81ad14c5\" x=\"276.14338\" y=\"105.474639\" style=\"fill: #1f77b4; stroke: #1f77b4; stroke-linejoin: miter\"/>\n     <use xlink:href=\"#m8a81ad14c5\" x=\"100.436324\" y=\"221.285815\" style=\"fill: #1f77b4; stroke: #1f77b4; stroke-linejoin: miter\"/>\n     <use xlink:href=\"#m8a81ad14c5\" x=\"224.257219\" y=\"151.472488\" style=\"fill: #1f77b4; stroke: #1f77b4; stroke-linejoin: miter\"/>\n     <use xlink:href=\"#m8a81ad14c5\" x=\"334.063292\" y=\"45.010581\" style=\"fill: #1f77b4; stroke: #1f77b4; stroke-linejoin: miter\"/>\n    </g>\n   </g>\n   <g id=\"patch_3\">\n    <path d=\"M 28.942188 273.312 \nL 28.942188 7.2 \n\" style=\"fill: none; stroke: #000000; stroke-width: 0.8; stroke-linejoin: miter; stroke-linecap: square\"/>\n   </g>\n   <g id=\"patch_4\">\n    <path d=\"M 386.062188 273.312 \nL 386.062188 7.2 \n\" style=\"fill: none; stroke: #000000; stroke-width: 0.8; stroke-linejoin: miter; stroke-linecap: square\"/>\n   </g>\n   <g id=\"patch_5\">\n    <path d=\"M 28.942188 273.312 \nL 386.062188 273.312 \n\" style=\"fill: none; stroke: #000000; stroke-width: 0.8; stroke-linejoin: miter; stroke-linecap: square\"/>\n   </g>\n   <g id=\"patch_6\">\n    <path d=\"M 28.942188 7.2 \nL 386.062188 7.2 \n\" style=\"fill: none; stroke: #000000; stroke-width: 0.8; stroke-linejoin: miter; stroke-linecap: square\"/>\n   </g>\n  </g>\n </g>\n <defs>\n  <clipPath id=\"pc08eb7907f\">\n   <rect x=\"28.942188\" y=\"7.2\" width=\"357.12\" height=\"266.112\"/>\n  </clipPath>\n </defs>\n</svg>\n"
          },
          "metadata": {}
        }
      ]
    }
  ]
}