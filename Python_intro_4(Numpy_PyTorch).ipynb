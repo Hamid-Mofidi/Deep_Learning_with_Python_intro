{
  "nbformat": 4,
  "nbformat_minor": 0,
  "metadata": {
    "colab": {
      "provenance": [],
      "authorship_tag": "ABX9TyN6+YmIUab3eu082XCVRXo+",
      "include_colab_link": true
    },
    "kernelspec": {
      "name": "python3",
      "display_name": "Python 3"
    },
    "language_info": {
      "name": "python"
    }
  },
  "cells": [
    {
      "cell_type": "markdown",
      "metadata": {
        "id": "view-in-github",
        "colab_type": "text"
      },
      "source": [
        "<a href=\"https://colab.research.google.com/github/Hamid-Mofidi/Python_Intro/blob/main/Python_intro_4(Numpy_PyTorch).ipynb\" target=\"_parent\"><img src=\"https://colab.research.google.com/assets/colab-badge.svg\" alt=\"Open In Colab\"/></a>"
      ]
    },
    {
      "cell_type": "code",
      "execution_count": null,
      "metadata": {
        "id": "hRnvkiChdM9r"
      },
      "outputs": [],
      "source": [
        "import numpy as np\n",
        "import torch"
      ]
    },
    {
      "cell_type": "code",
      "source": [
        "# create vectors (Numpy)\n",
        "nv0 = np.array([ 1, 2, 3, 4 ])\n",
        "nv1 = np.array([ [ 1, 2, 3, 4] ])\n",
        "nv2 = np.array([ 0, 1, 0, -1 ])\n",
        "print(nv0), print(' ')\n",
        "print(nv1), print(' ')\n",
        "print(type(nv0))\n",
        "print(type(nv1))\n",
        "\n",
        "# transpose it\n",
        "nv11 = np.transpose(nv1)\n",
        "print(nv11)\n",
        "print(' ')\n",
        "print(nv1.T)\n",
        "print(' ')\n",
        "print(nv0.T)\n",
        "print(' ')\n",
        "\n",
        "# dot product\n",
        "nv4 = np.dot(nv1,nv2)\n",
        "nv4"
      ],
      "metadata": {
        "colab": {
          "base_uri": "https://localhost:8080/"
        },
        "id": "-QXnC2tyfNa9",
        "outputId": "38264dc1-65ac-4781-d4d7-95021a71d4b3"
      },
      "execution_count": null,
      "outputs": [
        {
          "output_type": "stream",
          "name": "stdout",
          "text": [
            "[1 2 3 4]\n",
            " \n",
            "[[1 2 3 4]]\n",
            " \n",
            "<class 'numpy.ndarray'>\n",
            "<class 'numpy.ndarray'>\n",
            "[[1]\n",
            " [2]\n",
            " [3]\n",
            " [4]]\n",
            " \n",
            "[[1]\n",
            " [2]\n",
            " [3]\n",
            " [4]]\n",
            " \n",
            "[1 2 3 4]\n",
            " \n"
          ]
        },
        {
          "output_type": "execute_result",
          "data": {
            "text/plain": [
              "array([-2])"
            ]
          },
          "metadata": {},
          "execution_count": 19
        }
      ]
    },
    {
      "cell_type": "code",
      "source": [
        "# Matrix transpose (Numpy)\n",
        "M = np.array([ [1, 2, 3], \n",
        "               [4, 5, 6]\n",
        "                        ])\n",
        "print(M)\n",
        "print(' ')\n",
        "print(M.shape)\n",
        "print(' ')\n",
        "print(M.T)\n",
        "print(' ')\n",
        "print(M.T.shape)\n"
      ],
      "metadata": {
        "colab": {
          "base_uri": "https://localhost:8080/"
        },
        "id": "tGg1VDdIhg_s",
        "outputId": "bdfb573a-a888-43c5-a9f9-d31e3adda3ee"
      },
      "execution_count": null,
      "outputs": [
        {
          "output_type": "stream",
          "name": "stdout",
          "text": [
            "[[1 2 3]\n",
            " [4 5 6]]\n",
            " \n",
            "(2, 3)\n",
            " \n",
            "[[1 4]\n",
            " [2 5]\n",
            " [3 6]]\n",
            " \n",
            "(3, 2)\n"
          ]
        }
      ]
    },
    {
      "cell_type": "code",
      "source": [
        "from torch._C import parse_type_comment\n",
        "# Using PyTorch\n",
        "# create a vector\n",
        "tv  = torch.tensor([ [1, 2, 3, 4] ])\n",
        "tv1 = torch.tensor([ 1, 2, 3, 4])\n",
        "tv2 = torch.tensor([ 0, 1, 0, -1 ])\n",
        "print(tv), print(' ')\n",
        "print(tv.T), print(' ')\n",
        "print(tv1.T), print(' ')\n",
        "\n",
        "# dot product\n",
        "print(torch.dot(tv1,tv2))\n",
        "# or...\n",
        "print(torch.sum(tv1*tv2))\n"
      ],
      "metadata": {
        "colab": {
          "base_uri": "https://localhost:8080/"
        },
        "id": "H5eGnJkJikn-",
        "outputId": "bfb46811-391c-4751-97af-6c9b63d30725"
      },
      "execution_count": null,
      "outputs": [
        {
          "output_type": "stream",
          "name": "stdout",
          "text": [
            "tensor([[1, 2, 3, 4]])\n",
            " \n",
            "tensor([[1],\n",
            "        [2],\n",
            "        [3],\n",
            "        [4]])\n",
            " \n",
            "tensor([1, 2, 3, 4])\n",
            " \n",
            "tensor(-2)\n",
            "tensor(-2)\n"
          ]
        }
      ]
    },
    {
      "cell_type": "code",
      "source": [
        "# Matrix multiplication (Using Numpy)\n",
        "# create some random matrices\n",
        "A = np.random.randn(3,4)  # we need to call the sublibrary 'random'\n",
        "B = np.random.randn(4,5)\n",
        "C = np.random.randn(3,7)\n",
        "\n",
        "#A@B = np.matmul(A,B)  # we can use either of these notations \n",
        "                       # for matrix multiplication\n",
        "print(np.round(A@B,2)) # round it to 2 significant digits \n",
        "                    # after the decimal point, make it nicer to visualize"
      ],
      "metadata": {
        "colab": {
          "base_uri": "https://localhost:8080/"
        },
        "id": "vFdPuQI7mJWM",
        "outputId": "e9c99295-77a1-4943-a97a-79f3c1a8b23a"
      },
      "execution_count": null,
      "outputs": [
        {
          "output_type": "stream",
          "name": "stdout",
          "text": [
            "[[ 0.23  1.12  2.15 -3.67 -4.44]\n",
            " [ 0.72  0.04  0.11 -2.66 -0.14]\n",
            " [ 0.59  1.13  1.48 -2.98 -2.4 ]]\n"
          ]
        }
      ]
    },
    {
      "cell_type": "code",
      "source": [
        "# Matrix multiplication (Using PyTorch)\n",
        "# create some random matrices\n",
        "A = torch.randn(3,4)\n",
        "B = torch.randn(4,5)\n",
        "C1 = np.random.randn(4,7)\n",
        "C2 = torch.tensor(C1, dtype=torch.float) #converts C1 (numpy) to a torch\n",
        "\n",
        "# A is torch and C1 is numpy; however, CxC1  still makes sense. This is \n",
        "# not correct in general, that is, for many other rules/transactions,\n",
        "# numpy doesn't work well with PyTorch.\n",
        "# Here, we could also convert C1 to C2 first which is torch, and \n",
        "# then do the multiplication.\n",
        "\n",
        "print(np.round(A@B, 2)), print(' ')\n",
        "print(np.round(A@C1, 2)), print(' ') #A: torch,  C1: Numpy\n"
      ],
      "metadata": {
        "colab": {
          "base_uri": "https://localhost:8080/"
        },
        "id": "lzbcJ2KynuDg",
        "outputId": "2bf1d651-507e-4bad-8fcb-f2dbe0298524"
      },
      "execution_count": null,
      "outputs": [
        {
          "output_type": "stream",
          "name": "stdout",
          "text": [
            "tensor([[ 1.1900, -4.9000,  1.2500,  0.5700,  0.1300],\n",
            "        [ 0.6600, -9.8700,  7.7000, -0.5600,  2.9100],\n",
            "        [ 0.0800, -4.0400,  1.0600,  0.7600,  0.1600]])\n",
            " \n",
            "tensor([[-2.6200,  2.0200,  1.2000, -1.1900,  1.2000,  1.6400,  2.0200],\n",
            "        [-6.1400,  8.0600,  0.2300, -3.5700,  1.2900, -6.2000,  2.3700],\n",
            "        [-2.8500,  2.8200,  1.7300, -1.0900,  1.5300,  2.0400,  1.3800]],\n",
            "       dtype=torch.float64)\n",
            " \n"
          ]
        },
        {
          "output_type": "execute_result",
          "data": {
            "text/plain": [
              "(None, None)"
            ]
          },
          "metadata": {},
          "execution_count": 40
        }
      ]
    },
    {
      "cell_type": "markdown",
      "source": [
        "Interpretation of the dot product:\n",
        "A single number that reflects the commonalities between two objects (vectors, matrices, tensors, signals, images).\n",
        "\n",
        "The dot product is the computational backbone for many operations:\n",
        "\n",
        "1- **Statistics:** Correlation, least-squares, entropy, PCA\n",
        "\n",
        "2- **Signal processing:** Fourier transform, filtering\n",
        "\n",
        "3- **Science:** Geometry, physics, mechanics\n",
        "\n",
        "4- **Linear algebra:** Projection, transformation, multiplication\n",
        "\n",
        "5- **Deep learning:** Convolution, matrix multiplication, gram matrix(used in style trasformation)\n"
      ],
      "metadata": {
        "id": "Dj-ow-ompoy_"
      }
    },
    {
      "cell_type": "markdown",
      "source": [
        "The **softmax function** is a math function that converts a vector of numbers into a vector of **probabilities**, where the probabilities of values are proportional to the relative scale of each value in the vector. It is a nonlinear function that maps any real vector to a vector in the **range $(0,1)$**.\n",
        "\n",
        "The softmax function is commonly used in **machine learning**, especially for multi-class classification problems. It can be used as an **activation function** in a **NN layer**, where it transforms the output scores of the previous layer into probabilities for each class. It can be used as a **loss function**, where it measures the cross-entropy between the predicted probabilities and the true labels."
      ],
      "metadata": {
        "id": "mnb6hHf1s2OA"
      }
    },
    {
      "cell_type": "code",
      "source": [
        "# Softmax \n",
        "import torch.nn as nn\n",
        "import matplotlib.pyplot as plt"
      ],
      "metadata": {
        "id": "dG44Y92wrSgK"
      },
      "execution_count": null,
      "outputs": []
    },
    {
      "cell_type": "code",
      "source": [
        "# Softmax (manually in numpy)\n",
        "z    = [ 1, 2, -1]\n",
        "num  = np.exp(z)\n",
        "den  = np.sum(np.exp(z))\n",
        "sigma= num/den\n",
        "\n",
        "print(sigma)\n",
        "print(np.sum(sigma))"
      ],
      "metadata": {
        "colab": {
          "base_uri": "https://localhost:8080/"
        },
        "id": "eS-Zh3UTz0UJ",
        "outputId": "42f3a457-165b-44a2-8156-7009da396b17"
      },
      "execution_count": null,
      "outputs": [
        {
          "output_type": "stream",
          "name": "stdout",
          "text": [
            "[0.25949646 0.70538451 0.03511903]\n",
            "1.0\n"
          ]
        }
      ]
    },
    {
      "cell_type": "code",
      "source": [
        "z = np.random.randint(-5, high=15, size=25)\n",
        "print(z)\n",
        "\n",
        "#compute the softmax result\n",
        "num  = np.exp(z)\n",
        "den  = np.sum(np.exp(z))\n",
        "sigma= num/den\n",
        "\n",
        "#compare\n",
        "plt.plot(z,sigma,'ko')\n",
        "plt.xlabel('Original number z')\n",
        "plt.ylabel('Softmaxified $\\sigma$')\n",
        "#plt.yscale('log')\n",
        "plt.title('$\\sum\\sigma$ = %g'  %np.sum(sigma))\n",
        "plt.show()"
      ],
      "metadata": {
        "colab": {
          "base_uri": "https://localhost:8080/",
          "height": 512
        },
        "id": "KjEvrvqP1DmN",
        "outputId": "48b633c8-11ff-46cf-b051-03d8209f7910"
      },
      "execution_count": null,
      "outputs": [
        {
          "output_type": "stream",
          "name": "stdout",
          "text": [
            "[-5 12  2  1  2  0  7  8 -4  4 13 14 14 -2  5 -3  3  7  7  6 12  1 -1 14\n",
            " -4]\n"
          ]
        },
        {
          "output_type": "display_data",
          "data": {
            "text/plain": [
              "<Figure size 640x480 with 1 Axes>"
            ],
            "image/png": "[encoded data removed]"
          },
          "metadata": {}
        }
      ]
    },
    {
      "cell_type": "code",
      "source": [
        "#Softmax (Using PyTorch)\n",
        "\n",
        "z = [1, 2, -1]\n",
        "# create an instance of the softmax activation class\n",
        "softfun = nn.Softmax(dim=0)\n",
        "\n",
        "# then apply the data to that function\n",
        "sigmaT = softfun(torch.Tensor(z))\n",
        "\n",
        "print(sigmaT)\n",
        "\n"
      ],
      "metadata": {
        "colab": {
          "base_uri": "https://localhost:8080/"
        },
        "id": "PTvbSNdd3In7",
        "outputId": "4dc572b8-a606-420e-81c3-b756b7c5b7a3"
      },
      "execution_count": null,
      "outputs": [
        {
          "output_type": "stream",
          "name": "stdout",
          "text": [
            "tensor([0.2595, 0.7054, 0.0351])\n"
          ]
        }
      ]
    },
    {
      "cell_type": "code",
      "source": [
        "# log\n",
        "x  = np.linspace(0.0001,1,200)\n",
        "\n",
        "logx = np.log(x)\n",
        "fig  = plt.figure(figsize=(10,4))\n",
        "\n",
        "#increase fontsize, FYI.\n",
        "plt.rcParams.update({'font.size':15})\n",
        "\n",
        "plt.plot(x,logx,'ks-', markerfacecolor='w')\n",
        "plt.xlabel('x')\n",
        "plt.ylabel('log(x)')\n",
        "plt.show()"
      ],
      "metadata": {
        "colab": {
          "base_uri": "https://localhost:8080/",
          "height": 400
        },
        "id": "4pOaiXps5V04",
        "outputId": "bd775b6d-06be-45cb-f03d-9ee16d30d73f"
      },
      "execution_count": null,
      "outputs": [
        {
          "output_type": "display_data",
          "data": {
            "text/plain": [
              "<Figure size 1000x400 with 1 Axes>"
            ],
            "image/png": "[encoded data removed]"
          },
          "metadata": {}
        }
      ]
    },
    {
      "cell_type": "markdown",
      "source": [
        "Entropy: \n",
        "\n",
        "In **information theory**, **entropy** is a measure of the amount of uncertainty or randomness in a set of data. Specifically, it quantifies the average amount of information contained in each message or symbol within the data. Higher entropy means higher uncertainty and lower predictability, while lower entropy means lower uncertainty and higher predictability. The concept of entropy is widely used in various fields, including computer science, physics, and engineering.\n",
        "\n",
        "In **machine learning**, **entropy** is a measure of the impurity or uncertainty of a set of data. It is commonly used in decision tree algorithms to determine the best split for the data. The goal is to minimize entropy at each node of the tree, which results in a more accurate and efficient model.\n",
        "\n"
      ],
      "metadata": {
        "id": "-q4IEBke-QaD"
      }
    },
    {
      "cell_type": "markdown",
      "source": [
        "**Shannon entropy** is a measure of the amount of uncertainty or randomness in a set of data, named after the mathematician and electrical engineer Claude Shannon. It is calculated **as the negative sum of the probabilities of each possible outcome multiplied by the logarithm of that probability.** In other words, it measures the average amount of information contained in each message or symbol within a data stream. Higher entropy means higher uncertainty and lower predictability, while lower entropy means lower uncertainty and higher predictability. Shannon entropy is widely used in information theory, cryptography, and computer science to quantify the amount of information contained in a message or signal, and to design efficient data compression and error correction algorithms."
      ],
      "metadata": {
        "id": "YaI-g5J4_U71"
      }
    },
    {
      "cell_type": "code",
      "source": [
        "# Entropy\n",
        "# say probability of an event happening is p\n",
        "p = 0.98\n",
        "q =  1-p # probability of not happening\n",
        "x = [p, q]\n",
        "\n",
        "H = 0\n",
        "\n",
        "for i in x:\n",
        "  H -= i * np.log(i)\n",
        "\n",
        "print('Entropy:' +str(H))"
      ],
      "metadata": {
        "colab": {
          "base_uri": "https://localhost:8080/"
        },
        "id": "tuYJejB6_XGC",
        "outputId": "8d8cd954-b1cc-4f10-8e38-a1c9a5c2b2bb"
      },
      "execution_count": null,
      "outputs": [
        {
          "output_type": "stream",
          "name": "stdout",
          "text": [
            "Entropy:0.09803911327973205\n"
          ]
        }
      ]
    },
    {
      "cell_type": "markdown",
      "source": [
        "**Cross-entropy** is a measure of the dissimilarity between two probability distributions. **In machine learning**, it is often used as a **loss function** to measure the difference between the predicted probability distribution and the true probability distribution of a **classification** problem. The goal is to **minimize the cross-entropy loss**, which results in a more accurate and efficient model. Cross-entropy is widely used in **deep learning and neural networks**, as it provides a way to optimize the model parameters by adjusting the weights and biases of the network to minimize the difference between the predicted and true distributions."
      ],
      "metadata": {
        "id": "5RtO9PKlC9Cz"
      }
    },
    {
      "cell_type": "code",
      "source": [
        "# Cross Entropy\n",
        "p = [ 1, 0]         # sum = 1\n",
        "q = [ 0.25, 0.75]   # sum = 1\n",
        "\n",
        "H = 0\n",
        "for i in range(len(p)):\n",
        "  H += -p[i]*np.log(q[i])\n",
        "\n",
        "print('Cross entroy:' +str(H))"
      ],
      "metadata": {
        "colab": {
          "base_uri": "https://localhost:8080/"
        },
        "id": "9sMD-bJYCzaB",
        "outputId": "868d2806-250f-4672-9b8a-7ed72b036b98"
      },
      "execution_count": null,
      "outputs": [
        {
          "output_type": "stream",
          "name": "stdout",
          "text": [
            "Cross entroy:1.3862943611198906\n"
          ]
        }
      ]
    },
    {
      "cell_type": "code",
      "source": [
        "# Using PyTorch\n",
        "\n",
        "import torch\n",
        "import torch.nn.functional as F"
      ],
      "metadata": {
        "id": "pBnhoZwzEgDQ"
      },
      "execution_count": null,
      "outputs": []
    },
    {
      "cell_type": "code",
      "source": [
        "# inputs must be torch\n",
        "p_torch = torch.Tensor(p)\n",
        "q_torch = torch.Tensor(q)\n",
        "\n",
        "# F.binary_cross_entropy(p_torch,q_torch)  # this one does not give the right answer \n",
        "\n",
        "F.binary_cross_entropy(q_torch,p_torch)\n"
      ],
      "metadata": {
        "colab": {
          "base_uri": "https://localhost:8080/"
        },
        "id": "L-3LAz6XEs0p",
        "outputId": "5167b7bf-ffea-41cc-8167-d9b5fa3eeccf"
      },
      "execution_count": null,
      "outputs": [
        {
          "output_type": "execute_result",
          "data": {
            "text/plain": [
              "tensor(1.3863)"
            ]
          },
          "metadata": {},
          "execution_count": 86
        }
      ]
    },
    {
      "cell_type": "markdown",
      "source": [
        "argmin and argmax:\n",
        "\n",
        "In mathematics and computer science, **argmin** is a function that returns **the input value** that minimizes a given function. More specifically, given a function f(x), the argmin function returns **the value of x** that minimizes f(x). In other words, it returns the input value that produces the smallest output value of the function. The argmin function is commonly used in optimization problems, where the goal is to find the input value that minimizes a given objective function. It is also used in machine learning and statistics to estimate model parameters and to perform inference on data. argmax is defined similarly."
      ],
      "metadata": {
        "id": "p59bhPtTG2i2"
      }
    },
    {
      "cell_type": "code",
      "source": [
        "# argmin, argmax for matrices\n",
        "\n",
        "M = np.array( [ [1, 0, 10],\n",
        "                [20, 8, 5]\n",
        "                          ])\n",
        "print(M), print(' ')\n",
        "\n",
        "# various minima in this matrix\n",
        "minvals1 = np.min(M)         # minimum from entire matrix\n",
        "minvals2 = np.min(M,axis=0)  # minimum of each column (across rows)\n",
        "minvals3 = np.min(M,axis=1)  # minimum of each row (across columns)\n",
        "minidx1  = np.argmin(M)      # minimum from entire matrix\n",
        "minidx2  = np.argmin(M,axis=0)  # minimum of each column (across rows)\n",
        "minidx3  = np.argmin(M,axis=1)  # minimum of each row (across columns)\n",
        "\n",
        "\n",
        "print(minvals1)\n",
        "print(minvals2)\n",
        "print(minvals3)\n",
        "print(minidx1)\n",
        "print(minidx2)\n",
        "print(minidx3)\n",
        "\n"
      ],
      "metadata": {
        "colab": {
          "base_uri": "https://localhost:8080/"
        },
        "id": "RQeJgCCZHNbG",
        "outputId": "254e258b-c34a-4d75-a798-49453ad27cec"
      },
      "execution_count": null,
      "outputs": [
        {
          "output_type": "stream",
          "name": "stdout",
          "text": [
            "[[ 1  0 10]\n",
            " [20  8  5]]\n",
            " \n",
            "0\n",
            "[1 0 5]\n",
            "[0 5]\n",
            "1\n",
            "[0 0 1]\n",
            "[1 2]\n"
          ]
        }
      ]
    }
  ]
}