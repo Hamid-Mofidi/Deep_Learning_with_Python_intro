{
  "nbformat": 4,
  "nbformat_minor": 0,
  "metadata": {
    "colab": {
      "provenance": [],
      "authorship_tag": "ABX9TyN3d9VAeqs6Fq2EZ++Np1tp",
      "include_colab_link": true
    },
    "kernelspec": {
      "name": "python3",
      "display_name": "Python 3"
    },
    "language_info": {
      "name": "python"
    }
  },
  "cells": [
    {
      "cell_type": "markdown",
      "metadata": {
        "id": "view-in-github",
        "colab_type": "text"
      },
      "source": [
        "<a href=\"https://colab.research.google.com/github/Hamid-Mofidi/Python_Intro/blob/main/Pyth_intro_2.ipynb\" target=\"_parent\"><img src=\"https://colab.research.google.com/assets/colab-badge.svg\" alt=\"Open In Colab\"/></a>"
      ]
    },
    {
      "cell_type": "markdown",
      "source": [
        "In Python, **indexing** refers to the process of accessing a specific element in a sequence, such as a string or list, using its position or index number. **Indexing** in Python starts at 0, which means that the first element in a sequence has an index of 0, the second element has an index of 1, and so on.\n"
      ],
      "metadata": {
        "id": "Id7T_Cv9GD4w"
      }
    },
    {
      "cell_type": "code",
      "execution_count": 13,
      "metadata": {
        "colab": {
          "base_uri": "https://localhost:8080/"
        },
        "id": "22jycq1rE_Nh",
        "outputId": "941a849b-c83c-48c7-ef6c-3dc7663dbc67"
      },
      "outputs": [
        {
          "output_type": "stream",
          "name": "stdout",
          "text": [
            "5.4\n",
            "[10, 20, 30]\n",
            "[10, 20, 30]\n",
            "-2.43\n"
          ]
        },
        {
          "output_type": "execute_result",
          "data": {
            "text/plain": [
              "20"
            ]
          },
          "metadata": {},
          "execution_count": 13
        }
      ],
      "source": [
        "# indexing\n",
        "alst = [2, -1, 4, 5.4, 'sdtr', -2.43, [10, 20, 30]]\n",
        "print(alst[3])\n",
        "print(alst[len(alst)-1])  # this gives the last element of the list, but this is not the simplest way to call it\n",
        "print(alst[-1] )    # this way we can simply find the last element\n",
        "print(alst[-2])\n",
        "# Question: How can we catch the number 20 inside the list imbeded in \"alst\"?\n",
        "alst[-1][1]"
      ]
    },
    {
      "cell_type": "code",
      "source": [
        "# Exercise!\n",
        "blst = [2, 'hi', [3, 5, 9] , {'dog': 'cute', 'cat' : 'naughty'  }]\n",
        "type(blst[-1])\n",
        "# Get the character of dog from above list!\n",
        "blst[-1]['dog']"
      ],
      "metadata": {
        "colab": {
          "base_uri": "https://localhost:8080/",
          "height": 35
        },
        "id": "Dvx2EwG0K4Lr",
        "outputId": "cfca5c97-b527-4d21-a835-c2b325c4bb57"
      },
      "execution_count": 25,
      "outputs": [
        {
          "output_type": "execute_result",
          "data": {
            "text/plain": [
              "'cute'"
            ],
            "application/vnd.google.colaboratory.intrinsic+json": {
              "type": "string"
            }
          },
          "metadata": {},
          "execution_count": 25
        }
      ]
    },
    {
      "cell_type": "markdown",
      "source": [
        "**slice()** function in python is used to extract a continuous sequence(it may be an empty sequence, complete sequence or a partial sequence) of any object(array, string, tuple) . It returns a slice object which can be used with the array/string which will return the continuous sequence after slicing."
      ],
      "metadata": {
        "id": "g-U_GInzP-_C"
      }
    },
    {
      "cell_type": "code",
      "source": [
        "# slicing\n",
        "a = range(2, 8)\n",
        "print(type(a))\n",
        "print(a[0])\n",
        "print(a[-1])\n",
        "print(a)\n",
        "print(a[0:3])"
      ],
      "metadata": {
        "colab": {
          "base_uri": "https://localhost:8080/"
        },
        "id": "nT7Qpps6PyAB",
        "outputId": "36023a71-7043-4a71-da71-36a118271932"
      },
      "execution_count": 39,
      "outputs": [
        {
          "output_type": "stream",
          "name": "stdout",
          "text": [
            "<class 'range'>\n",
            "2\n",
            "7\n",
            "range(2, 8)\n",
            "range(2, 5)\n"
          ]
        }
      ]
    },
    {
      "cell_type": "code",
      "source": [
        "lst = list(a)\n",
        "print(lst)\n",
        "print(type(lst))\n",
        "print(lst[0:3])\n",
        "print(lst[:2])\n",
        "print(lst[2:])\n",
        "# last[start:stop:skip] \n",
        "print(lst[::2]) # this means we want all elements and then we want to skip by two"
      ],
      "metadata": {
        "colab": {
          "base_uri": "https://localhost:8080/"
        },
        "id": "zUxMfqWdR16X",
        "outputId": "c7fedb8d-def0-49fc-f770-1873dec3d0c2"
      },
      "execution_count": 47,
      "outputs": [
        {
          "output_type": "stream",
          "name": "stdout",
          "text": [
            "[2, 3, 4, 5, 6, 7]\n",
            "<class 'list'>\n",
            "[2, 3, 4]\n",
            "[2, 3]\n",
            "[4, 5, 6, 7]\n",
            "[2, 4, 6]\n",
            "[7, 5, 3]\n",
            "[3, 5, 7]\n"
          ]
        }
      ]
    },
    {
      "cell_type": "code",
      "source": [
        "# reverse a list\n",
        "print(lst[::-1])\n",
        "\n",
        "print(lst[::-2]) # this means we want all elements (backward) and then we want to skip by two \n",
        "print(lst[1::2]) # to get odd elements"
      ],
      "metadata": {
        "colab": {
          "base_uri": "https://localhost:8080/"
        },
        "id": "YEUfkUCeTCi3",
        "outputId": "4b1da119-6c73-4d7f-fbf6-5c116aac3d8e"
      },
      "execution_count": 48,
      "outputs": [
        {
          "output_type": "stream",
          "name": "stdout",
          "text": [
            "[7, 6, 5, 4, 3, 2]\n",
            "[7, 5, 3]\n",
            "[3, 5, 7]\n"
          ]
        }
      ]
    }
  ]
}