{
  "nbformat": 4,
  "nbformat_minor": 0,
  "metadata": {
    "colab": {
      "provenance": [],
      "authorship_tag": "ABX9TyMjX1/ZeBjpTkUtqSiU27tQ",
      "include_colab_link": true
    },
    "kernelspec": {
      "name": "python3",
      "display_name": "Python 3"
    },
    "language_info": {
      "name": "python"
    }
  },
  "cells": [
    {
      "cell_type": "markdown",
      "metadata": {
        "id": "view-in-github",
        "colab_type": "text"
      },
      "source": [
        "<a href=\"https://colab.research.google.com/github/Hamid-Mofidi/Python_Intro/blob/main/Pyth_intro_2.ipynb\" target=\"_parent\"><img src=\"https://colab.research.google.com/assets/colab-badge.svg\" alt=\"Open In Colab\"/></a>"
      ]
    },
    {
      "cell_type": "markdown",
      "source": [
        "In Python, **indexing** refers to the process of accessing a specific element in a sequence, such as a string or list, using its position or index number. **Indexing** in Python starts at 0, which means that the first element in a sequence has an index of 0, the second element has an index of 1, and so on.\n"
      ],
      "metadata": {
        "id": "Id7T_Cv9GD4w"
      }
    },
    {
      "cell_type": "code",
      "execution_count": 13,
      "metadata": {
        "colab": {
          "base_uri": "https://localhost:8080/"
        },
        "id": "22jycq1rE_Nh",
        "outputId": "941a849b-c83c-48c7-ef6c-3dc7663dbc67"
      },
      "outputs": [
        {
          "output_type": "stream",
          "name": "stdout",
          "text": [
            "5.4\n",
            "[10, 20, 30]\n",
            "[10, 20, 30]\n",
            "-2.43\n"
          ]
        },
        {
          "output_type": "execute_result",
          "data": {
            "text/plain": [
              "20"
            ]
          },
          "metadata": {},
          "execution_count": 13
        }
      ],
      "source": [
        "# indexing\n",
        "alst = [2, -1, 4, 5.4, 'sdtr', -2.43, [10, 20, 30]]\n",
        "print(alst[3])\n",
        "print(alst[len(alst)-1])  # this gives the last element of the list, but this is not the simplest way to call it\n",
        "print(alst[-1] )    # this way we can simply find the last element\n",
        "print(alst[-2])\n",
        "# Question: How can we catch the number 20 inside the list imbeded in \"alst\"?\n",
        "alst[-1][1]"
      ]
    },
    {
      "cell_type": "code",
      "source": [
        "# Exercise!\n",
        "blst = [2, 'hi', [3, 5, 9] , {'dog': 'cute', 'cat' : 'naughty'  }]\n",
        "type(blst[-1])\n",
        "# Get the character of dog from above list!\n",
        "blst[-1]['dog']"
      ],
      "metadata": {
        "colab": {
          "base_uri": "https://localhost:8080/",
          "height": 35
        },
        "id": "Dvx2EwG0K4Lr",
        "outputId": "cfca5c97-b527-4d21-a835-c2b325c4bb57"
      },
      "execution_count": 25,
      "outputs": [
        {
          "output_type": "execute_result",
          "data": {
            "text/plain": [
              "'cute'"
            ],
            "application/vnd.google.colaboratory.intrinsic+json": {
              "type": "string"
            }
          },
          "metadata": {},
          "execution_count": 25
        }
      ]
    },
    {
      "cell_type": "markdown",
      "source": [
        "**slice()** function in python is used to extract a continuous sequence(it may be an empty sequence, complete sequence or a partial sequence) of any object(array, string, tuple) . It returns a slice object which can be used with the array/string which will return the continuous sequence after slicing."
      ],
      "metadata": {
        "id": "g-U_GInzP-_C"
      }
    },
    {
      "cell_type": "code",
      "source": [
        "# slicing\n",
        "a = range(2, 8)\n",
        "print(type(a))\n",
        "print(a[0])\n",
        "print(a[-1])\n",
        "print(a)\n",
        "print(a[0:3])"
      ],
      "metadata": {
        "colab": {
          "base_uri": "https://localhost:8080/"
        },
        "id": "nT7Qpps6PyAB",
        "outputId": "3b564ed1-dedb-4522-f011-25a6d9d83bff"
      },
      "execution_count": 1,
      "outputs": [
        {
          "output_type": "stream",
          "name": "stdout",
          "text": [
            "<class 'range'>\n",
            "2\n",
            "7\n",
            "range(2, 8)\n",
            "range(2, 5)\n"
          ]
        }
      ]
    },
    {
      "cell_type": "code",
      "source": [
        "lst = list(a)\n",
        "print(lst)\n",
        "print(type(lst))\n",
        "print(lst[0:3])\n",
        "print(lst[:2])\n",
        "print(lst[2:])\n",
        "# last[start:stop:skip] \n",
        "print(lst[::2]) # this means we want all elements and then we want to skip by two"
      ],
      "metadata": {
        "colab": {
          "base_uri": "https://localhost:8080/"
        },
        "id": "zUxMfqWdR16X",
        "outputId": "8f543b36-5111-4c94-d07c-a483b3bd3184"
      },
      "execution_count": 2,
      "outputs": [
        {
          "output_type": "stream",
          "name": "stdout",
          "text": [
            "[2, 3, 4, 5, 6, 7]\n",
            "<class 'list'>\n",
            "[2, 3, 4]\n",
            "[2, 3]\n",
            "[4, 5, 6, 7]\n",
            "[2, 4, 6]\n"
          ]
        }
      ]
    },
    {
      "cell_type": "code",
      "source": [
        "# reverse a list\n",
        "print(lst[::-1])\n",
        "\n",
        "print(lst[::-2]) # this means we want all elements (backward) and then we want to skip by two \n",
        "print(lst[1::2]) # to get odd elements"
      ],
      "metadata": {
        "colab": {
          "base_uri": "https://localhost:8080/"
        },
        "id": "YEUfkUCeTCi3",
        "outputId": "46289867-4df2-4460-cd4a-dab5f8ddcb16"
      },
      "execution_count": 49,
      "outputs": [
        {
          "output_type": "stream",
          "name": "stdout",
          "text": [
            "[7, 6, 5, 4, 3, 2]\n",
            "[7, 5, 3]\n",
            "[3, 5, 7]\n"
          ]
        }
      ]
    },
    {
      "cell_type": "code",
      "source": [
        "# functions\n",
        "print(sum(a))\n",
        "print(sum(lst))\n",
        "\n",
        "output = sum(lst) -2\n",
        "print('The sum minus two is' +' ' + str(output))\n"
      ],
      "metadata": {
        "colab": {
          "base_uri": "https://localhost:8080/"
        },
        "id": "jMmSaKaXVsDA",
        "outputId": "8263248e-a1fd-49cb-b1a0-20281bef80bb"
      },
      "execution_count": 56,
      "outputs": [
        {
          "output_type": "stream",
          "name": "stdout",
          "text": [
            "27\n",
            "27\n",
            "The sum minus two is 25\n"
          ]
        }
      ]
    },
    {
      "cell_type": "markdown",
      "source": [
        "**NumPy** is a Python library used for working with arrays. It also has functions for working in domain of linear algebra, fourier transform, and matrices. NumPy was created in 2005 by Travis Oliphant. It is an open source project and you can use it freely. NumPy stands for Numerical Python."
      ],
      "metadata": {
        "id": "awrT1GO9XkWG"
      }
    },
    {
      "cell_type": "code",
      "source": [
        "# Numpy\n",
        "import numpy as np\n",
        "\n",
        "num = list(range (2,7))\n",
        "print(num)\n",
        "print(np.mean(num))\n",
        "\n",
        "#the other way to find mean using numpy:\n",
        "num2 = np.array(num)\n",
        "print(num2)\n",
        "print(num2.mean() )\n",
        "\n",
        "num2.max()\n",
        "\n"
      ],
      "metadata": {
        "colab": {
          "base_uri": "https://localhost:8080/"
        },
        "id": "FipGw7sYYCyz",
        "outputId": "4ef20349-2656-446f-86aa-04330abcd743"
      },
      "execution_count": 79,
      "outputs": [
        {
          "output_type": "stream",
          "name": "stdout",
          "text": [
            "[2, 3, 4, 5, 6]\n",
            "4.0\n",
            "[2 3 4 5 6]\n",
            "4.0\n"
          ]
        },
        {
          "output_type": "execute_result",
          "data": {
            "text/plain": [
              "6"
            ]
          },
          "metadata": {},
          "execution_count": 79
        }
      ]
    },
    {
      "cell_type": "markdown",
      "source": [
        "Note that instead importing the whole numpy library, we could just import the function we need on that library. For example, in the following, we import 'mean' from numpy. \n",
        "(Remark: '**Runtime + Restart runtime**' will restart the session.)"
      ],
      "metadata": {
        "id": "W9zDG8YgbjlW"
      }
    },
    {
      "cell_type": "code",
      "source": [],
      "metadata": {
        "id": "ujHsC_d0biDL"
      },
      "execution_count": null,
      "outputs": []
    },
    {
      "cell_type": "code",
      "source": [
        "print(np.linspace(2,8,4))\n",
        "b = np.linspace(0,1,5)\n",
        "print(type(b))\n",
        "print(b)\n"
      ],
      "metadata": {
        "colab": {
          "base_uri": "https://localhost:8080/"
        },
        "id": "0iKcsvexZagq",
        "outputId": "9050f79b-1001-410f-a9df-d19b2a29dd5a"
      },
      "execution_count": 80,
      "outputs": [
        {
          "output_type": "stream",
          "name": "stdout",
          "text": [
            "[2. 4. 6. 8.]\n",
            "<class 'numpy.ndarray'>\n",
            "[0.   0.25 0.5  0.75 1.  ]\n"
          ]
        }
      ]
    },
    {
      "cell_type": "code",
      "source": [
        "from numpy import mean as mn\n",
        "mn(lst)"
      ],
      "metadata": {
        "colab": {
          "base_uri": "https://localhost:8080/"
        },
        "id": "V6I3cPTGcplb",
        "outputId": "27581017-830d-4ddf-e7bf-c865a50156e6"
      },
      "execution_count": 9,
      "outputs": [
        {
          "output_type": "execute_result",
          "data": {
            "text/plain": [
              "4.5"
            ]
          },
          "metadata": {},
          "execution_count": 9
        }
      ]
    },
    {
      "cell_type": "markdown",
      "source": [
        "**Pandas** is a Python library used for working with data sets . It has functions for analyzing, cleaning, exploring, and manipulating data. The name \"Pandas\" has a reference to both \"Panel Data\", and \"Python Data Analysis\" and was created by Wes McKinney in 2008."
      ],
      "metadata": {
        "id": "kYg8xWCjk9Is"
      }
    },
    {
      "cell_type": "code",
      "source": [
        "import numpy as np\n",
        "import pandas as pd\n",
        "\n",
        "# create random data\n",
        "rand1 = np.random.randn()  # it returns a random number drawn from Gaussian distribution or a normal distribution\n",
        "rand2 = np.random.randn(5)  # it returns 5 random number\n",
        "rand3 = np.random.randn(2,3)  # it returns a 2x3 matrix\n",
        "\n",
        "print(rand1)\n",
        "print(type(rand1))\n",
        "print(rand2)\n",
        "print(type(rand2))\n",
        "print(rand3)\n",
        "type(rand3)"
      ],
      "metadata": {
        "colab": {
          "base_uri": "https://localhost:8080/"
        },
        "id": "JGkCdOg7k8S_",
        "outputId": "e9bc5c24-868a-441e-8b8a-21df13d48200"
      },
      "execution_count": 26,
      "outputs": [
        {
          "output_type": "stream",
          "name": "stdout",
          "text": [
            "0.8361771025444888\n",
            "<class 'float'>\n",
            "[ 0.00896626 -2.23299819  1.16045441 -0.60227936 -0.59765156]\n",
            "<class 'numpy.ndarray'>\n",
            "[[ 1.02260921  1.05198469 -0.08996995]\n",
            " [-0.32808657  0.09448729  0.87390032]]\n"
          ]
        },
        {
          "output_type": "execute_result",
          "data": {
            "text/plain": [
              "numpy.ndarray"
            ]
          },
          "metadata": {},
          "execution_count": 26
        }
      ]
    },
    {
      "cell_type": "code",
      "source": [],
      "metadata": {
        "id": "D6iHei57nowF"
      },
      "execution_count": null,
      "outputs": []
    },
    {
      "cell_type": "code",
      "source": [
        "# variable lables\n",
        "labels = ['Temp(c)', 'Ice cream']\n",
        "print(type(labels))\n",
        "\n",
        "#put them together in a dictionary\n",
        "# DD= { labels[0]: rand2[::2] , labels[1]: rand2[1::2] }   # I am not using this data because further pandas cannot run \n",
        "# as \"All arrays must be of the same length\" for using datagram. So we use the following data DD\n",
        "DD= { labels[0]: rand2 , labels[1]: rand2[::-1] } \n",
        "print(DD)\n",
        "print(type(DD))\n",
        "\n",
        "#import the dictionary into a pandas dataframe\n",
        "df = pd.DataFrame(data=DD)\n",
        "print(df)\n",
        "print(df.count())"
      ],
      "metadata": {
        "colab": {
          "base_uri": "https://localhost:8080/"
        },
        "id": "ooOS3C-qnIgS",
        "outputId": "69317943-b62f-46ac-ef06-2d78e99cbddf"
      },
      "execution_count": 33,
      "outputs": [
        {
          "output_type": "stream",
          "name": "stdout",
          "text": [
            "<class 'list'>\n",
            "{'Temp(c)': array([ 0.00896626, -2.23299819,  1.16045441, -0.60227936, -0.59765156]), 'Ice cream': array([-0.59765156, -0.60227936,  1.16045441, -2.23299819,  0.00896626])}\n",
            "<class 'dict'>\n",
            "    Temp(c)  Ice cream\n",
            "0  0.008966  -0.597652\n",
            "1 -2.232998  -0.602279\n",
            "2  1.160454   1.160454\n",
            "3 -0.602279  -2.232998\n",
            "4 -0.597652   0.008966\n",
            "Temp(c)      5\n",
            "Ice cream    5\n",
            "dtype: int64\n"
          ]
        }
      ]
    },
    {
      "cell_type": "code",
      "source": [
        "sum?\n",
        "# this will open up 'help' to the right!\n",
        "# for some functions typing two question marks, i.e., ??, will give\n",
        "# you the source file, so you can actually read the original Python\n",
        "# code that underlies the function\n",
        "\n",
        "# Another way is as follows:\n",
        "help(sum)"
      ],
      "metadata": {
        "colab": {
          "base_uri": "https://localhost:8080/"
        },
        "id": "lPhxHCwnvsTU",
        "outputId": "61228dca-8fa1-4c32-bb9c-260719d3c272"
      },
      "execution_count": 58,
      "outputs": [
        {
          "output_type": "stream",
          "name": "stdout",
          "text": [
            "Help on built-in function sum in module builtins:\n",
            "\n",
            "sum(iterable, /, start=0)\n",
            "    Return the sum of a 'start' value (default: 0) plus an iterable of numbers\n",
            "    \n",
            "    When the iterable is empty, return the start value.\n",
            "    This function is intended specifically for use with numeric values and may\n",
            "    reject non-numeric types.\n",
            "\n"
          ]
        }
      ]
    },
    {
      "cell_type": "code",
      "source": [
        "# Creating functions\n",
        "\n",
        "def Func():  # On the next lines, it is important to use \"2 space\" (or a Tab) to be considered inside the function, otherwise \n",
        "                    # you will get an error message\n",
        "  print(2+5)\n",
        "print('hi')  #this is not inside the function as I did not push it forward with a tab (or two-space)\n",
        "\n",
        "\n",
        "Func()\n",
        "  \n"
      ],
      "metadata": {
        "colab": {
          "base_uri": "https://localhost:8080/"
        },
        "id": "hXgQIPS8xv2T",
        "outputId": "d0e8b17c-ba14-447d-d568-765957ac300a"
      },
      "execution_count": 64,
      "outputs": [
        {
          "output_type": "stream",
          "name": "stdout",
          "text": [
            "hi\n",
            "7\n"
          ]
        }
      ]
    },
    {
      "cell_type": "code",
      "source": [
        "def Func2(inp1,inp2):\n",
        "  print(inp1**2 + inp2)\n",
        "\n",
        "Func2(3,-1)\n"
      ],
      "metadata": {
        "colab": {
          "base_uri": "https://localhost:8080/"
        },
        "id": "xACltQpuzp_p",
        "outputId": "8d681ffa-411c-4bb2-f16d-304572371ffc"
      },
      "execution_count": 66,
      "outputs": [
        {
          "output_type": "stream",
          "name": "stdout",
          "text": [
            "8\n"
          ]
        }
      ]
    },
    {
      "cell_type": "code",
      "source": [
        "# Lambda function\n",
        "\n",
        "funname = lambda x: x**3 -1 \n",
        "\n",
        "funname(2)"
      ],
      "metadata": {
        "colab": {
          "base_uri": "https://localhost:8080/"
        },
        "id": "i72BjQM21oCE",
        "outputId": "700163e4-7237-4ae0-897c-436309b90b52"
      },
      "execution_count": 68,
      "outputs": [
        {
          "output_type": "execute_result",
          "data": {
            "text/plain": [
              "7"
            ]
          },
          "metadata": {},
          "execution_count": 68
        }
      ]
    },
    {
      "cell_type": "code",
      "source": [
        "# Factorial \n",
        "import numpy as np\n",
        "\n",
        "\n",
        "def myfactorial(n):\n",
        "  return np.prod(np.arange(1,n+1))\n",
        "\n",
        "\n",
        "print(myfactorial(4))\n",
        "\n",
        "#the other way to find factorial is using the \"math\" library\n",
        "import math\n",
        "\n",
        "print(math.factorial(3))\n",
        "\n",
        "u=22\n",
        "print(myfactorial(u), math.factorial(u))\n",
        "#myfactorial does not work well with large numbers like u = 22\n",
        "\n"
      ],
      "metadata": {
        "colab": {
          "base_uri": "https://localhost:8080/"
        },
        "id": "ANpMFuye9_aB",
        "outputId": "78475853-2722-4ee7-d44a-f8d66185d024"
      },
      "execution_count": 99,
      "outputs": [
        {
          "output_type": "stream",
          "name": "stdout",
          "text": [
            "24\n",
            "6\n",
            "-1250660718674968576 1124000727777607680000\n"
          ]
        }
      ]
    },
    {
      "cell_type": "code",
      "source": [
        "# Scope (locally, globally)\n",
        "# Runtime + Restart runtime \n",
        "\n",
        "# Variables created inside a function are local (accessible only inside the function)\n",
        "# Variables created outside a function are  global (accessible in or out of the function)\n",
        "\n",
        "def funfun():\n",
        "  x = 6  #(local scope) # x is defined locally inside this function. So if you call it out of funfun, it does not return anything\n",
        "  y = 20 #(local scope)\n",
        "  print(x)\n",
        "\n",
        "x = 4\n",
        "funfun()\n",
        "# print(x) # it gives error if we had not defined x =4 two line above, because before that x was just defined locally inside funfun\n",
        "print(x)\n",
        "\n",
        "%whos"
      ],
      "metadata": {
        "colab": {
          "base_uri": "https://localhost:8080/"
        },
        "id": "mkguEL8fBDtl",
        "outputId": "b5beaf97-db0f-4a06-c063-24b492767dbe"
      },
      "execution_count": 18,
      "outputs": [
        {
          "output_type": "stream",
          "name": "stdout",
          "text": [
            "6\n",
            "4\n",
            "Variable   Type        Data/Info\n",
            "--------------------------------\n",
            "coinflip   function    <function coinflip at 0x7f38f9536d40>\n",
            "funfun     function    <function funfun at 0x7f38f9536320>\n",
            "np         module      <module 'numpy' from '/us<...>kages/numpy/__init__.py'>\n",
            "x          int         4\n"
          ]
        }
      ]
    },
    {
      "cell_type": "code",
      "source": [
        "# Exercise: Write a function that flips a coin N times, and reports the average\n",
        "\n",
        "import numpy as np\n",
        "\n",
        "def coinflip(N):\n",
        "  propCoinFlips = np.mean( np.random.randn(N)>0)\n",
        "  print(str(N)+ ' ' + 'coin flips had' + ' ' + str(100*propCoinFlips) + '%' + ' ' + 'heads!')\n",
        "\n",
        "coinflip(25)"
      ],
      "metadata": {
        "colab": {
          "base_uri": "https://localhost:8080/"
        },
        "id": "_knnQyR3Fb_x",
        "outputId": "09be4fc2-b374-4e43-a2a2-9b4c1bc33990"
      },
      "execution_count": 17,
      "outputs": [
        {
          "output_type": "stream",
          "name": "stdout",
          "text": [
            "25 coin flips had 44.0% heads!\n"
          ]
        }
      ]
    },
    {
      "cell_type": "code",
      "source": [
        "# Copy\n",
        "a = [4, 5]\n",
        "b = a # this does not define a new variable 'b' and does not copy 'a' to 'b' (different from MATLAB)\n",
        "      # in fact, 'b' is just a different name for 'a'.   'b' is simply a new referent to 'a'\n",
        "b[0] = -1\n",
        "\n",
        "print(a)  # The first element of 'a' will change as well\n",
        "print(b)"
      ],
      "metadata": {
        "colab": {
          "base_uri": "https://localhost:8080/"
        },
        "id": "DvMeiAa9AnhC",
        "outputId": "b48d3e36-a0ab-4ffd-d534-2eb585800b79"
      },
      "execution_count": 21,
      "outputs": [
        {
          "output_type": "stream",
          "name": "stdout",
          "text": [
            "[-1, 5]\n",
            "[-1, 5]\n"
          ]
        }
      ]
    },
    {
      "cell_type": "code",
      "source": [
        "# How to copy then??!!\n",
        "c = a[:]   #this tells Python a copy of 'a' to the new variable 'c'\n",
        "           # this method of copiness doesn't work in classes, or other kinds of objects (not global)\n",
        "\n",
        "c[0]= 10\n",
        "print(a)\n",
        "print(c)\n"
      ],
      "metadata": {
        "colab": {
          "base_uri": "https://localhost:8080/"
        },
        "id": "NbqP0Z1-IoDH",
        "outputId": "71e3b304-93ce-4716-abd4-74cd418f99c8"
      },
      "execution_count": 24,
      "outputs": [
        {
          "output_type": "stream",
          "name": "stdout",
          "text": [
            "[-1, 5]\n",
            "[10, 5]\n"
          ]
        }
      ]
    },
    {
      "cell_type": "code",
      "source": [
        "# Copy import\n",
        "import copy\n",
        "\n",
        "a = { 'q': 1, 'w': 4 }\n",
        "b = copy.deepcopy(a)    #We often use it in deep learning\n",
        "\n",
        "b"
      ],
      "metadata": {
        "colab": {
          "base_uri": "https://localhost:8080/"
        },
        "id": "2NzDFdMWJZ3e",
        "outputId": "36589cff-3efa-442d-f265-6038456ed64c"
      },
      "execution_count": 27,
      "outputs": [
        {
          "output_type": "execute_result",
          "data": {
            "text/plain": [
              "{'q': 1, 'w': 4}"
            ]
          },
          "metadata": {},
          "execution_count": 27
        }
      ]
    },
    {
      "cell_type": "markdown",
      "source": [
        "Object Oriented Programming (OOPs):\n",
        "\n",
        "A **class** is a code template for creating objects. **Objects** have member variables and have behavior associated with them. In python a class is created by the keyword class. An object is created using the constructor of the class.\n",
        "\n"
      ],
      "metadata": {
        "id": "6anEqbr-QzZ3"
      }
    },
    {
      "cell_type": "code",
      "source": [
        "# Class: Blueprint for creating a set of attributes (variables) \n",
        "         # and methods (functions)\n",
        "# Every class is going to produce multiple instances\n",
        "\n",
        "class model(object):\n",
        "\n",
        "  #contructor method  (methods of objects are nothing more than funcitons)\n",
        " def __init__(self,numlayers,numunits,name):\n",
        "  self.layer   = numlayers   #attributes (variables)\n",
        "  self.units   = numunits\n",
        "  self.names   = name\n",
        "  self.weights = 1\n",
        "  \n",
        " def howManyUnits(self):\n",
        "  totalUnits = self.layer * self.units\n",
        "  print(f'There are {totalUnits} units in the mode.')\n",
        "\n",
        " def trainTheModel(self,x):\n",
        "  self.weights += x\n",
        "  return self.weights\n",
        "\n",
        " def __str__(self):\n",
        "   return f'This is a {self.names} architecture.'\n",
        " "
      ],
      "metadata": {
        "id": "cOzQegWiRALB"
      },
      "execution_count": 50,
      "outputs": []
    },
    {
      "cell_type": "code",
      "source": [
        "m1 = model(2,5,'CNN2')\n",
        "m1.howManyUnits()\n",
        "\n",
        "m1.trainTheModel(2.5)\n",
        "str(m1)\n",
        "\n"
      ],
      "metadata": {
        "colab": {
          "base_uri": "https://localhost:8080/",
          "height": 53
        },
        "id": "thms8VbKTekX",
        "outputId": "24775856-23e3-4bbc-bc13-3ea1492c800b"
      },
      "execution_count": 52,
      "outputs": [
        {
          "output_type": "stream",
          "name": "stdout",
          "text": [
            "There are 10 units in the mode.\n"
          ]
        },
        {
          "output_type": "execute_result",
          "data": {
            "text/plain": [
              "'This is a CNN2 architecture.'"
            ],
            "application/vnd.google.colaboratory.intrinsic+json": {
              "type": "string"
            }
          },
          "metadata": {},
          "execution_count": 52
        }
      ]
    },
    {
      "cell_type": "code",
      "source": [
        "# Exercise: Create a new class\n",
        "# 1) weights should be a random numbers matrix of size layers X units\n",
        "# 2) change training method to multiply input X and add input Y\n"
      ],
      "metadata": {
        "id": "x9FM_LCbWa0X"
      },
      "execution_count": 53,
      "outputs": []
    },
    {
      "cell_type": "code",
      "source": [
        "class model2(object):\n",
        "\n",
        "  #contructor method  (methods of objects are nothing more than funcitons)\n",
        " def __init__(self,numlayers,numunits,name):\n",
        "  self.layer   = numlayers   #attributes (variables)\n",
        "  self.units   = numunits\n",
        "  self.names   = name\n",
        "  self.weights = np.random.randn(numlayers,self.units)\n",
        "  \n",
        " def howManyUnits(self):\n",
        "  totalUnits = self.layer * self.units\n",
        "  print(f'There are {totalUnits} units in the mode.')\n",
        "\n",
        " def trainTheModel(self,x,y):\n",
        "  self.weights = self.weights*x + y\n",
        " \n",
        "\n",
        " def __str__(self):\n",
        "   return f'This is a {self.names} architecture.'"
      ],
      "metadata": {
        "id": "t2rzzUkdW6k9"
      },
      "execution_count": 55,
      "outputs": []
    },
    {
      "cell_type": "code",
      "source": [
        "m2 = model2(2,3,'X')\n",
        "m2.weights"
      ],
      "metadata": {
        "colab": {
          "base_uri": "https://localhost:8080/"
        },
        "id": "ZEGkSchAXnCx",
        "outputId": "4a0f2914-c5d8-460f-f93f-e94fd1e9e2fb"
      },
      "execution_count": 59,
      "outputs": [
        {
          "output_type": "execute_result",
          "data": {
            "text/plain": [
              "array([[-1.45204399,  2.03079877, -0.46918816],\n",
              "       [ 1.15776103, -0.14655767,  1.33710111]])"
            ]
          },
          "metadata": {},
          "execution_count": 59
        }
      ]
    },
    {
      "cell_type": "code",
      "source": [
        "m2.trainTheModel(2,3)\n",
        "m2.weights\n"
      ],
      "metadata": {
        "colab": {
          "base_uri": "https://localhost:8080/"
        },
        "id": "w9Fbw3zpX0op",
        "outputId": "91878568-0696-439f-9ccf-c9486fa9489f"
      },
      "execution_count": 60,
      "outputs": [
        {
          "output_type": "execute_result",
          "data": {
            "text/plain": [
              "array([[0.09591201, 7.06159753, 2.06162368],\n",
              "       [5.31552207, 2.70688465, 5.67420222]])"
            ]
          },
          "metadata": {},
          "execution_count": 60
        }
      ]
    }
  ]
}
