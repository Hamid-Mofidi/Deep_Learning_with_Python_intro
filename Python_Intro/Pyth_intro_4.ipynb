{
  "nbformat": 4,
  "nbformat_minor": 0,
  "metadata": {
    "colab": {
      "provenance": [],
      "authorship_tag": "ABX9TyOi9YIbRkWi/yA0Y6rLU753",
      "include_colab_link": true
    },
    "kernelspec": {
      "name": "python3",
      "display_name": "Python 3"
    },
    "language_info": {
      "name": "python"
    }
  },
  "cells": [
    {
      "cell_type": "markdown",
      "metadata": {
        "id": "view-in-github",
        "colab_type": "text"
      },
      "source": [
        "<a href=\"https://colab.research.google.com/github/Hamid-Mofidi/Python_for_Deep_Learning/blob/main/Python_Intro/Pyth_intro_4.ipynb\" target=\"_parent\"><img src=\"https://colab.research.google.com/assets/colab-badge.svg\" alt=\"Open In Colab\"/></a>"
      ]
    },
    {
      "cell_type": "code",
      "execution_count": null,
      "metadata": {
        "id": "hLrLDoHtlxBZ"
      },
      "outputs": [],
      "source": [
        "import numpy as np\n",
        "import matplotlib.pyplot as plt\n",
        "import torch\n"
      ]
    },
    {
      "cell_type": "code",
      "source": [
        "# Sampling\n",
        "\n",
        "# create a list of numbers\n",
        "\n",
        "x = [ 1, 2, 4, 6 , 5, 4, 0, -4, 5, -2, 6, 10, -9, 1, 3, -6 ]\n",
        "n = len(x)\n",
        "\n",
        "# compute the population mean\n",
        "popmean = np.mean(x)\n",
        "\n",
        "# compute a sample mean\n",
        "sample   = np.random.choice(x, size=5, replace=True)\n",
        "sampmean = np.mean(sample)\n",
        "\n",
        "# print\n",
        "print('Popmean:', popmean)\n",
        "print('Sample mean:', sampmean)"
      ],
      "metadata": {
        "colab": {
          "base_uri": "https://localhost:8080/"
        },
        "id": "-1HJD_zcnE00",
        "outputId": "f4038bec-2192-45a3-9da2-70cb044f5b48"
      },
      "execution_count": null,
      "outputs": [
        {
          "output_type": "stream",
          "name": "stdout",
          "text": [
            "Popmean: 1.625\n",
            "Sample mean: 0.4\n"
          ]
        }
      ]
    },
    {
      "cell_type": "code",
      "source": [
        "# Sampling with large data\n",
        "\n",
        "x = [ 1, 2, 4, 6 , 5, 4, 0, -4, 5, -2, 6, 10, -9, 1, 3, -6 ]\n",
        "nExpers = 10000\n",
        "samplemeans =  np.zeros(nExpers)\n",
        "for i in range(nExpers):\n",
        "  # step 1: draw a sample\n",
        "  sample  = np.random.choice(x,size=5,replace=True)\n",
        "  # step 2: compute its mean\n",
        "  samplemeans[i] = np.mean(sample)\n",
        "# show the results as a histogram\n",
        "plt.hist(samplemeans, bins=40, density=True)\n",
        "plt.plot([popmean, popmean], [0, .3], 'm--')\n",
        "plt.ylabel('Count')\n",
        "plt.xlabel('Sample mean')\n",
        "plt.show()"
      ],
      "metadata": {
        "colab": {
          "base_uri": "https://localhost:8080/",
          "height": 449
        },
        "id": "prT9I6_7o35X",
        "outputId": "5c96b740-f57f-49d4-8b84-f6a0c234d5d3"
      },
      "execution_count": null,
      "outputs": [
        {
          "output_type": "display_data",
          "data": {
            "text/plain": [
              "<Figure size 640x480 with 1 Axes>"
            ],
            "image/png": "[encoded data removed]"
          },
          "metadata": {}
        }
      ]
    },
    {
      "cell_type": "code",
      "source": [
        "# Reproducible randomness via seeding\n",
        "print(np.random.randn(5))\n"
      ],
      "metadata": {
        "colab": {
          "base_uri": "https://localhost:8080/"
        },
        "id": "PhCYbcyCsvvS",
        "outputId": "99c60293-934d-4a8a-d7b3-bdcabe5da113"
      },
      "execution_count": null,
      "outputs": [
        {
          "output_type": "stream",
          "name": "stdout",
          "text": [
            "[-0.9822943   1.03126909  0.49133378 -0.4466466  -0.80636008]\n"
          ]
        }
      ]
    },
    {
      "cell_type": "code",
      "source": [
        "# Old method: \n",
        "# repeating after fixing the seed (old, but still widely used method)\n",
        "np.random.seed(17)\n",
        "print(np.random.randn(5))\n",
        "print(np.random.randn(5))"
      ],
      "metadata": {
        "colab": {
          "base_uri": "https://localhost:8080/"
        },
        "id": "JUoH0_QmujV9",
        "outputId": "77cecd3c-0f1f-48f8-fc32-238026025849"
      },
      "execution_count": null,
      "outputs": [
        {
          "output_type": "stream",
          "name": "stdout",
          "text": [
            "[ 0.27626589 -1.85462808  0.62390111  1.14531129  1.03719047]\n",
            "[ 1.88663893 -0.11169829 -0.36210134  0.14867505 -0.43778315]\n"
          ]
        }
      ]
    },
    {
      "cell_type": "code",
      "source": [
        "# New seed mechanism in numpy:\n",
        "\n",
        "randseed1 = np.random.RandomState(17)\n",
        "randseed2 = np.random.RandomState(20230517) #today date\n",
        "\n",
        "print( randseed1.randn(5) )  # same sequence\n",
        "print( randseed2.randn(5) )  # diff from above, but same each time\n",
        "print( randseed1.randn(5) )  # same as two up\n",
        "print( randseed2.randn(5) )  # same as two up\n",
        "\n",
        "print( np.random.randn(5) )  # different every time\n"
      ],
      "metadata": {
        "colab": {
          "base_uri": "https://localhost:8080/"
        },
        "id": "zP0kQ8MSuui2",
        "outputId": "903b0f88-163c-462c-a435-1375d2857dc8"
      },
      "execution_count": null,
      "outputs": [
        {
          "output_type": "stream",
          "name": "stdout",
          "text": [
            "[ 0.27626589 -1.85462808  0.62390111  1.14531129  1.03719047]\n",
            "[ 1.02702576  0.61838581 -0.10170194  0.66414977  1.08452752]\n",
            "[ 1.88663893 -0.11169829 -0.36210134  0.14867505 -0.43778315]\n",
            "[-0.03054951 -0.73697171 -1.24036263 -0.8974199  -0.40873964]\n",
            "[ 0.13126776 -1.21256024  0.15999085 -0.75522304  0.34989599]\n"
          ]
        }
      ]
    },
    {
      "cell_type": "code",
      "source": [
        "# Using PyTorch\n",
        "\n",
        "torch.randn(5)"
      ],
      "metadata": {
        "colab": {
          "base_uri": "https://localhost:8080/"
        },
        "id": "XElUAygBwbaC",
        "outputId": "3c862ffe-7e5d-494c-e320-490b03d78f0f"
      },
      "execution_count": null,
      "outputs": [
        {
          "output_type": "execute_result",
          "data": {
            "text/plain": [
              "tensor([ 1.5836, -1.8780, -0.2505,  0.3454,  0.9513])"
            ]
          },
          "metadata": {},
          "execution_count": 44
        }
      ]
    },
    {
      "cell_type": "code",
      "source": [
        "torch.manual_seed(22)\n",
        "print(torch.randn(5))\n",
        "\n",
        "# torch's seed does not spread to numpy\n",
        "print(np.random.randn(5))"
      ],
      "metadata": {
        "colab": {
          "base_uri": "https://localhost:8080/"
        },
        "id": "bJ-tFsJjwnga",
        "outputId": "c7cae147-76c1-4bd0-e8fa-c3c702f5b418"
      },
      "execution_count": null,
      "outputs": [
        {
          "output_type": "stream",
          "name": "stdout",
          "text": [
            "tensor([ 1.0302, -0.5073, -0.1017,  1.3587, -3.0745])\n",
            "[-1.15541329  3.34515739  0.12672721 -0.6941789   0.55767443]\n"
          ]
        }
      ]
    },
    {
      "cell_type": "markdown",
      "source": [
        "A **t-test** is a statistical test used in deep learning to determine whether **there is a significant difference between the means of two datasets**. It is commonly used in hypothesis testing and can be used to compare the performance of two different machine learning models or algorithms.\n",
        "\n",
        "In deep learning, t-tests are often used to evaluate the statistical significance of the difference between the mean values of the performance metrics, such as accuracy or loss, of two models or algorithms. This helps to determine whether one model or algorithm is significantly better than the other.\n",
        "\n",
        "The t-test assumes that the data is normally distributed and that the variances of the two datasets are equal. If these assumptions are not met, alternative tests such as the **Welch's t-test or the Mann-Whitney U test** may be used instead."
      ],
      "metadata": {
        "id": "C-vuLIFY2NTp"
      }
    },
    {
      "cell_type": "code",
      "source": [
        "import numpy as np\n",
        "from scipy.stats import ttest_ind\n",
        "\n",
        "# Generate two datasets\n",
        "data1 = np.random.normal(0, 1, 100) #  is a NumPy function that generates an \n",
        "      # array of 100 random numbers sampled from a normal distribution \n",
        "      # with mean 0 and standard deviation 1.\n",
        "data2 = np.random.normal(1, 1, 100) # is similar to the data1 function, \n",
        "                                    # but with a mean of 1 instead of 0.\n",
        "\n",
        "# Perform t-test\n",
        "t_statistic, p_value = ttest_ind(data1, data2)\n",
        "# \"t_statistic\" is the calculated t-statistic for the two samples.\n",
        "# \"p_value\" is the calculated p-value for the two samples.\n",
        "\n",
        "# The t-statistic is a measure of the difference between the means of the \n",
        "# two samples, while the p-value is a measure of the probability of \n",
        "# observing such a difference by chance.\n",
        "\n",
        "# If the p-value is less than a chosen significance level (e.g. 0.05), \n",
        "# then it is usually concluded that the two samples are significantly different. \n",
        "# If the p-value is greater than the significance level, then there is not \n",
        "# enough evidence to conclude that the two samples are significantly different.\n",
        "\n",
        "# Print results\n",
        "print(\"t-statistic:\", t_statistic)\n",
        "print(\"p-value:\", p_value)"
      ],
      "metadata": {
        "colab": {
          "base_uri": "https://localhost:8080/"
        },
        "id": "K9iveqHO2MqJ",
        "outputId": "c950ebfa-a95e-46ce-abca-09d4cf764d15"
      },
      "execution_count": null,
      "outputs": [
        {
          "output_type": "stream",
          "name": "stdout",
          "text": [
            "t-statistic: -8.330839622717063\n",
            "p-value: 1.3193907304458805e-14\n"
          ]
        }
      ]
    },
    {
      "cell_type": "markdown",
      "source": [
        "In above example, note that we cannot determine which dataset is better based on the t-statistic and p-value alone. We need to look at the actual values of the performance metric to make that determination."
      ],
      "metadata": {
        "id": "gWSNmrBh2_zO"
      }
    },
    {
      "cell_type": "markdown",
      "source": [
        "Here's another example that shows how to use a t-test to determine if one dataset is better than the other:\n",
        "\n",
        "Suppose we have two models, model1 and model2, and we want to compare their accuracy on a classification task using a t-test. We have 100 test samples for each model, and we record their accuracies in two arrays, acc1 and acc2."
      ],
      "metadata": {
        "id": "ZDCKkOrw6xT9"
      }
    },
    {
      "cell_type": "code",
      "source": [
        "import numpy as np\n",
        "from scipy.stats import ttest_ind\n",
        "\n",
        "# Generate two arrays of accuracies\n",
        "acc1 = np.random.normal(0.8, 0.1, 100)\n",
        "acc2 = np.random.normal(0.85, 0.1, 100)\n",
        "\n",
        "# Perform t-test\n",
        "t_statistic, p_value = ttest_ind(acc1, acc2)\n",
        "\n",
        "# Print results\n",
        "print(\"t-statistic:\", t_statistic)\n",
        "print(\"p-value:\", p_value)\n",
        "\n",
        "# Determine which model is better\n",
        "if p_value < 0.05:\n",
        "    if np.mean(acc1) > np.mean(acc2):\n",
        "        print(\"Model 1 is significantly better than Model 2\")\n",
        "    else:\n",
        "        print(\"Model 2 is significantly better than Model 1\")\n",
        "else:\n",
        "    print(\"There is no significant difference between the models\")\n",
        "\n",
        "    "
      ],
      "metadata": {
        "colab": {
          "base_uri": "https://localhost:8080/"
        },
        "id": "YETFcJxv2-lB",
        "outputId": "5f8399f2-e849-4340-941b-b2126f17ba60"
      },
      "execution_count": null,
      "outputs": [
        {
          "output_type": "stream",
          "name": "stdout",
          "text": [
            "t-statistic: -3.6317797333753594\n",
            "p-value: 0.00035848154546633563\n",
            "Model 2 is significantly better than Model 1\n"
          ]
        }
      ]
    },
    {
      "cell_type": "code",
      "source": [
        "# here's a simple example of how to plot the derivative of a function \n",
        "# in Python using the numpy and matplotlib libraries:\n",
        "\n",
        "import numpy as np\n",
        "import matplotlib.pyplot as plt\n",
        "\n",
        "# Define a function to plot\n",
        "def f(x):\n",
        "    return np.sin(x)\n",
        "\n",
        "# Define the range of x values\n",
        "x = np.linspace(0, 2*np.pi, 100)\n",
        "\n",
        "# Plot the function\n",
        "plt.plot(x, f(x), label='f(x)')\n",
        "\n",
        "# Plot the derivative\n",
        "plt.plot(x, np.gradient(f(x), x), label='df/dx')\n",
        "\n",
        "# Add labels and legend\n",
        "plt.xlabel('x')\n",
        "plt.ylabel('y')\n",
        "plt.legend()\n",
        "\n",
        "# Show the plot\n",
        "plt.show()\n",
        "\n",
        "\n"
      ],
      "metadata": {
        "colab": {
          "base_uri": "https://localhost:8080/",
          "height": 449
        },
        "id": "YJrtchpv7H3W",
        "outputId": "31462558-75be-4d09-b3bd-e85b7e6b65da"
      },
      "execution_count": null,
      "outputs": [
        {
          "output_type": "display_data",
          "data": {
            "text/plain": [
              "<Figure size 640x480 with 1 Axes>"
            ],
            "image/png": "[encoded data removed]"
          },
          "metadata": {}
        }
      ]
    },
    {
      "cell_type": "markdown",
      "source": [
        "In above example, we define a simple function f(x) = sin(x) and create an array of x values using the numpy linspace() function. We then plot the function using plt.plot() and label it as f(x).\n",
        "\n",
        "To plot the derivative of the function, we use the numpy gradient() function to calculate the numerical derivative of f(x) with respect to x. We then plot the derivative on the same graph and label it as df/dx.\n",
        "\n",
        "Finally, we add labels to the axes and a legend to distinguish between the two plots. We then use plt.show() to display the plot.\n",
        "\n",
        "This code will generate a plot that shows both the original function and its derivative on the same graph. The derivative plot will be labeled as \"df/dx\"."
      ],
      "metadata": {
        "id": "-s1fqmAY_eZK"
      }
    }
  ]
}