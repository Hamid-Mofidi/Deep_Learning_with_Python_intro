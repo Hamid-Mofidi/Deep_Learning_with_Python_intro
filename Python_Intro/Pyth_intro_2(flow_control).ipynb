{
  "nbformat": 4,
  "nbformat_minor": 0,
  "metadata": {
    "colab": {
      "provenance": [],
      "authorship_tag": "ABX9TyNTk4WDKooDkHQaBnOTl2rR",
      "include_colab_link": true
    },
    "kernelspec": {
      "name": "python3",
      "display_name": "Python 3"
    },
    "language_info": {
      "name": "python"
    }
  },
  "cells": [
    {
      "cell_type": "markdown",
      "metadata": {
        "id": "view-in-github",
        "colab_type": "text"
      },
      "source": [
        "<a href=\"https://colab.research.google.com/github/Hamid-Mofidi/Python_Intro/blob/main/Python_intro_3(flow_control).ipynb\" target=\"_parent\"><img src=\"https://colab.research.google.com/assets/colab-badge.svg\" alt=\"Open In Colab\"/></a>"
      ]
    },
    {
      "cell_type": "code",
      "execution_count": null,
      "metadata": {
        "colab": {
          "base_uri": "https://localhost:8080/"
        },
        "id": "kPHBMa7AgUIM",
        "outputId": "199a7e88-b0c7-41c0-9534-0922fef83be0"
      },
      "outputs": [
        {
          "output_type": "stream",
          "name": "stdout",
          "text": [
            "Enter the value of x: 3\n",
            "Enter the value of y: 4\n",
            "<class 'float'>\n",
            "Good!\n",
            "GoodGood!\n"
          ]
        }
      ],
      "source": [
        "x = float(input('Enter the value of x: '))\n",
        "y = float(input('Enter the value of y: '))\n",
        "print(type(x))\n",
        "\n",
        "if x**2 -1 > y:\n",
        "  print('Good!')\n",
        "else:\n",
        "  print('What is wrong?!')\n",
        "\n",
        "\n",
        "#the other way to this is as follows:\n",
        "print('GoodGood!') if x**2 - 1> y  else print('What is realy wrong?!')\n"
      ]
    },
    {
      "cell_type": "code",
      "source": [
        "import numpy as np\n",
        "\n",
        "ns = np.linspace(-5,5,7)\n",
        "\n",
        "for I in range(len(ns)):\n",
        "  print('Index ' + str(I) + ' has a value of ' + str(ns[I]))\n"
      ],
      "metadata": {
        "colab": {
          "base_uri": "https://localhost:8080/"
        },
        "id": "CHIxK2Onr1li",
        "outputId": "956d2419-baf8-4387-a6f6-48a09f957d60"
      },
      "execution_count": null,
      "outputs": [
        {
          "output_type": "stream",
          "name": "stdout",
          "text": [
            "Index 0 has a value of -5.0\n",
            "Index 1 has a value of -3.333333333333333\n",
            "Index 2 has a value of -1.6666666666666665\n",
            "Index 3 has a value of 0.0\n",
            "Index 4 has a value of 1.666666666666667\n",
            "Index 5 has a value of 3.333333333333334\n",
            "Index 6 has a value of 5.0\n"
          ]
        }
      ]
    },
    {
      "cell_type": "code",
      "source": [
        "# Let's do the above 'for' loop by using enumerate:\n",
        "\n",
        "for I,n in enumerate(ns):  # this is what enumerates does: n=ns[I]\n",
        "  print('Index ' + str(I) + ' has a value of ' + str(n))\n"
      ],
      "metadata": {
        "colab": {
          "base_uri": "https://localhost:8080/"
        },
        "id": "iekpMWBEspQ2",
        "outputId": "8eca3296-d7f8-404a-f8ab-06453dd78f6e"
      },
      "execution_count": null,
      "outputs": [
        {
          "output_type": "stream",
          "name": "stdout",
          "text": [
            "Index 0 has a value of -5.0\n",
            "Index 1 has a value of -3.333333333333333\n",
            "Index 2 has a value of -1.6666666666666665\n",
            "Index 3 has a value of 0.0\n",
            "Index 4 has a value of 1.666666666666667\n",
            "Index 5 has a value of 3.333333333333334\n",
            "Index 6 has a value of 5.0\n"
          ]
        }
      ]
    },
    {
      "cell_type": "code",
      "source": [
        "for i in range(10):\n",
        "  if i%2 == 0:\n",
        "    continue    # when Python encounters the world 'continue' inside a\n",
        "                # a loop, what it is actually going to do is not continue.\n",
        "  print(i)"
      ],
      "metadata": {
        "colab": {
          "base_uri": "https://localhost:8080/"
        },
        "id": "dfZfwXo4zSBN",
        "outputId": "8b41533e-23fe-4504-86eb-e6884c88bf6d"
      },
      "execution_count": null,
      "outputs": [
        {
          "output_type": "stream",
          "name": "stdout",
          "text": [
            "1\n",
            "3\n",
            "5\n",
            "7\n",
            "9\n"
          ]
        }
      ]
    },
    {
      "cell_type": "code",
      "source": [
        "# initialization\n",
        "import numpy as np\n",
        "\n",
        "r1 = np.zeros(4)\n",
        "print(r1)\n",
        "\n",
        "r2 = np.full(3,4.2)\n",
        "print(r2)\n",
        "\n",
        "del r2 # this removes the variable r2 and it does not exist anymore if \n",
        "       # you ask to print(r2)\n",
        "\n"
      ],
      "metadata": {
        "id": "1WckeaTZ1K_s",
        "colab": {
          "base_uri": "https://localhost:8080/"
        },
        "outputId": "098e1b74-b4dd-4a2f-f5a5-8dc1dd2ffc06"
      },
      "execution_count": 9,
      "outputs": [
        {
          "output_type": "stream",
          "name": "stdout",
          "text": [
            "[0. 0. 0. 0.]\n",
            "[4.2 4.2 4.2]\n"
          ]
        }
      ]
    },
    {
      "cell_type": "code",
      "source": [
        "x = 'hi'\n",
        "print(x.isnumeric())\n",
        "\n",
        "y = '3'\n",
        "print(y.isnumeric())\n",
        "y2 = float (y)\n",
        "\n",
        "print(y2)\n",
        "print(type(y2))\n",
        "type(y)"
      ],
      "metadata": {
        "colab": {
          "base_uri": "https://localhost:8080/"
        },
        "id": "Y-MXW_K8L80r",
        "outputId": "1f3388df-93f6-45b8-956b-ff9c4e962a22"
      },
      "execution_count": 17,
      "outputs": [
        {
          "output_type": "stream",
          "name": "stdout",
          "text": [
            "False\n",
            "True\n",
            "3.0\n",
            "<class 'float'>\n"
          ]
        },
        {
          "output_type": "execute_result",
          "data": {
            "text/plain": [
              "str"
            ]
          },
          "metadata": {},
          "execution_count": 17
        }
      ]
    },
    {
      "cell_type": "code",
      "source": [
        "# Create a function that will input two numbers and output their products\n",
        " \n",
        "def funfun(x,y):\n",
        "  #check that inputs are numeric\n",
        "  if not isinstance(x,(int,float)):\n",
        "\n",
        "    # check if x can be converted to a number\n",
        "    if isinstance(x,str) and x.isnumeric():\n",
        "      x = float(x)\n",
        "      print('Note: converted x to float.')\n",
        "\n",
        "    else:\n",
        "      raise Exception('Input x must be a number!')\n",
        "\n",
        "  if not isinstance(y,(int,float)):\n",
        "     # check if y can be converted to a number\n",
        "    if isinstance(y,str) and y.isnumeric():\n",
        "      y = float(y)\n",
        "      print('Note: converted y to float.')\n",
        "\n",
        "    else:\n",
        "      raise Exception('Input y must be a number!')\n",
        "\n",
        "  z = x * y\n",
        "  return z\n",
        "\n",
        "funfun('3', '5')  "
      ],
      "metadata": {
        "colab": {
          "base_uri": "https://localhost:8080/"
        },
        "id": "J8kmVoonKEF2",
        "outputId": "a9df30e0-d6f9-42ab-8e7b-4ef810a2d196"
      },
      "execution_count": 22,
      "outputs": [
        {
          "output_type": "stream",
          "name": "stdout",
          "text": [
            "Note: converted x to float.\n",
            "Note: converted y to float.\n"
          ]
        },
        {
          "output_type": "execute_result",
          "data": {
            "text/plain": [
              "15.0"
            ]
          },
          "metadata": {},
          "execution_count": 22
        }
      ]
    },
    {
      "cell_type": "code",
      "source": [
        "# try & except are sometimes useful. However, should not use it too much \n",
        "# it might cover some errors that are effective!\n",
        "def fun2(x,y):\n",
        "  z = 0\n",
        "  try:\n",
        "    z = x**y\n",
        "    print('Python is here; it is done!')\n",
        "  except:\n",
        "    print('could not complete the mission!')\n",
        "\n",
        "  return z\n",
        "\n",
        "fun2(3,'hi')\n",
        "    "
      ],
      "metadata": {
        "colab": {
          "base_uri": "https://localhost:8080/"
        },
        "id": "2JIuWRNJO9-G",
        "outputId": "766668b0-6267-4621-c8c3-5e98db07042c"
      },
      "execution_count": 26,
      "outputs": [
        {
          "output_type": "stream",
          "name": "stdout",
          "text": [
            "could not complete the mission!\n"
          ]
        },
        {
          "output_type": "execute_result",
          "data": {
            "text/plain": [
              "0"
            ]
          },
          "metadata": {},
          "execution_count": 26
        }
      ]
    }
  ]
}
