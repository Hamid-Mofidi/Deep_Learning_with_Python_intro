{
  "nbformat": 4,
  "nbformat_minor": 0,
  "metadata": {
    "colab": {
      "provenance": [],
      "authorship_tag": "ABX9TyOV5gAtYDzL2wUHAw+jQluL",
      "include_colab_link": true
    },
    "kernelspec": {
      "name": "python3",
      "display_name": "Python 3"
    },
    "language_info": {
      "name": "python"
    }
  },
  "cells": [
    {
      "cell_type": "markdown",
      "metadata": {
        "id": "view-in-github",
        "colab_type": "text"
      },
      "source": [
        "<a href=\"https://colab.research.google.com/github/Hamid-Mofidi/Python_Intro_for_Machine_Learning/blob/main/Pyth_intro_0.ipynb\" target=\"_parent\"><img src=\"https://colab.research.google.com/assets/colab-badge.svg\" alt=\"Open In Colab\"/></a>"
      ]
    },
    {
      "cell_type": "markdown",
      "source": [
        " **Python** is a popular programming language that was created by Guido van Rossum and released in 1991. It is used for various purposes, such as web development, software development, data analysis, machine learning, etc. \n",
        "\n",
        "Python has a simple and readable syntax that is similar to the English language. It also has many built-in libraries and modules that provide a lot of functionality and features. Python is an interpreted language, meaning that it can run the code without compiling it first. It also supports multiple programming paradigms, such as procedural, object-oriented, and functional. \n",
        "\n",
        "Python can help you learn **machine learning** because it has many libraries and frameworks that are designed for machine learning, such as **NumPy, SciPy, pandas, scikit-learn, TensorFlow, PyTorch**, etc. These libraries and frameworks make it easy to perform data manipulation, visualization, preprocessing, modeling, training, testing, and deployment of machine learning models. Python also has a large and active community of developers and researchers who contribute to the development and improvement of these libraries and frameworks.\n"
      ],
      "metadata": {
        "id": "W8AW2Io9Cr_k"
      }
    },
    {
      "cell_type": "code",
      "source": [
        "# this code cell inspects the values of the variables\n",
        "a = 4\n",
        "b = 5\n",
        "print(a) # print out a\n",
        "b  # print out b. For the last term, we do not need to write \"print...\""
      ],
      "metadata": {
        "colab": {
          "base_uri": "https://localhost:8080/"
        },
        "id": "Sm2YB1zxR5Dx",
        "outputId": "a5390c19-127c-4284-82c8-03ce0328258b"
      },
      "execution_count": null,
      "outputs": [
        {
          "output_type": "stream",
          "name": "stdout",
          "text": [
            "4\n"
          ]
        },
        {
          "output_type": "execute_result",
          "data": {
            "text/plain": [
              "5"
            ]
          },
          "metadata": {},
          "execution_count": 9
        }
      ]
    },
    {
      "cell_type": "code",
      "source": [
        "c = 7\n",
        "d = 7.0\n",
        "type(c) # Running this cell just shows type of \"d\" (the last statement) but not \"c\"\n",
        "type(d)"
      ],
      "metadata": {
        "colab": {
          "base_uri": "https://localhost:8080/"
        },
        "id": "MMsbHKUPTgN-",
        "outputId": "66a17340-464a-4471-fdfa-b8059a014fd9"
      },
      "execution_count": null,
      "outputs": [
        {
          "output_type": "execute_result",
          "data": {
            "text/plain": [
              "float"
            ]
          },
          "metadata": {},
          "execution_count": 10
        }
      ]
    },
    {
      "cell_type": "code",
      "source": [
        "aVariableName = 'hello' # ' ' not common\n",
        "User_name     = \"My name is Hamid\"  # \" \" more common. \n",
        "# All of the characters that are on top of the numbers on keyboard are not \n",
        "# allowed in variable names with the exception of underscore _ (even space is not allowed)\n",
        "\n",
        "print(User_name)\n",
        "type(User_name)\n"
      ],
      "metadata": {
        "colab": {
          "base_uri": "https://localhost:8080/"
        },
        "id": "FaYdDEO-UBP0",
        "outputId": "0222f999-7920-40de-82a9-83f1d75d82a3"
      },
      "execution_count": null,
      "outputs": [
        {
          "output_type": "stream",
          "name": "stdout",
          "text": [
            "My name is Hamid\n"
          ]
        },
        {
          "output_type": "execute_result",
          "data": {
            "text/plain": [
              "str"
            ]
          },
          "metadata": {},
          "execution_count": 11
        }
      ]
    },
    {
      "cell_type": "code",
      "source": [
        "%whos \n",
        "# shows a list of the variable names that we've created with their types\n"
      ],
      "metadata": {
        "colab": {
          "base_uri": "https://localhost:8080/"
        },
        "id": "vuTBA0tJW0vO",
        "outputId": "e2b40b29-68b9-4eb6-a7ce-e25f783c4dbe"
      },
      "execution_count": null,
      "outputs": [
        {
          "output_type": "stream",
          "name": "stdout",
          "text": [
            "Variable        Type     Data/Info\n",
            "----------------------------------\n",
            "D               dict     n=2\n",
            "User_name       str      My name is Hamid\n",
            "a               int      4\n",
            "aVariableName   str      hello\n",
            "b               int      5\n",
            "c               int      7\n",
            "d               float    7.0\n"
          ]
        }
      ]
    },
    {
      "cell_type": "code",
      "source": [
        "# Single assignment \n",
        "varA = 4\n",
        "varB = \"test\"\n",
        "\n",
        "print(varA)\n",
        "print(varB)\n",
        "\n",
        "# Multiple assignment\n",
        "varC, varD =  5, \"test2\"\n",
        "\n",
        "print(varC)\n",
        "print(varD)"
      ],
      "metadata": {
        "colab": {
          "base_uri": "https://localhost:8080/"
        },
        "id": "PnBIwWdBXfOf",
        "outputId": "829c0f3e-f530-4cb0-8cd3-73fe2af6e899"
      },
      "execution_count": null,
      "outputs": [
        {
          "output_type": "stream",
          "name": "stdout",
          "text": [
            "4\n",
            "test\n",
            "5\n",
            "test2\n"
          ]
        }
      ]
    },
    {
      "cell_type": "code",
      "source": [
        "# Exercise!\n",
        "# Can we overwrite existing variables?\n",
        "#   - using the same variable type\n",
        "#   - using different variable type\n",
        "\n",
        "# The answer is \"YES\" (for both)"
      ],
      "metadata": {
        "id": "8KBwl1NfZHGc"
      },
      "execution_count": null,
      "outputs": []
    },
    {
      "cell_type": "code",
      "source": [
        "t= 6/3  # forward slash is for dividing\n",
        "print(type(t))\n",
        "print(t)\n",
        "a = 1 + 3 \\\n",
        "+ 4\n",
        "\n",
        "print(a)  # a backslash (\\) is a line continuation character. \n",
        "   # If a backslash is placed at the end of a line, \n",
        "   # it is considered that the line is continued on the next line.\n",
        "print(type(a))\n",
        "\n",
        "b = ( 5 + 6 - \n",
        "       2)\n",
        "\n",
        "b # the preferred way of wrapping long lines is by using \n",
        " # Python's implied line continuation inside parentheses, brackets and braces"
      ],
      "metadata": {
        "colab": {
          "base_uri": "https://localhost:8080/"
        },
        "id": "8yHSNnJFZvc5",
        "outputId": "d5bc4b37-5091-4076-a588-71779a6ac495"
      },
      "execution_count": null,
      "outputs": [
        {
          "output_type": "stream",
          "name": "stdout",
          "text": [
            "<class 'float'>\n",
            "2.0\n",
            "8\n",
            "<class 'int'>\n"
          ]
        },
        {
          "output_type": "execute_result",
          "data": {
            "text/plain": [
              "9"
            ]
          },
          "metadata": {},
          "execution_count": 18
        }
      ]
    },
    {
      "cell_type": "code",
      "source": [
        "print(3 * 5)\n",
        "print(3 ** 2)\n",
        "print (9 ** 1/2)\n",
        "print(9 ** .5)\n",
        "print(9 ** (1/2))"
      ],
      "metadata": {
        "colab": {
          "base_uri": "https://localhost:8080/"
        },
        "id": "WOZVQe7jd7Jp",
        "outputId": "85b625d4-af8f-4e79-8aec-d51ff92c4062"
      },
      "execution_count": null,
      "outputs": [
        {
          "output_type": "stream",
          "name": "stdout",
          "text": [
            "15\n",
            "9\n",
            "4.5\n",
            "3.0\n",
            "3.0\n"
          ]
        }
      ]
    },
    {
      "cell_type": "code",
      "source": [
        "#Overloading\n",
        "x = 7 \n",
        "y =4.3\n",
        "My_first_name  = \"Hamid\"\n",
        "My_family_name = \"Mofidi\"\n",
        "\n",
        "print(My_first_name + ' ' + My_family_name) # additions are for concatenating the strings\n",
        "print (\"x+y = 11\")\n",
        "print (x+y)\n",
        "# print (x + '+' + y '=' x+y)   # we cannot use the plus sign for combining \"int\" and \"str\"\n",
        "print(str(x) + '+' + str(y) + '=' + str(x+y) )\n",
        "print(str(x) + ' ' + '+' + ' ' + str(y) +  '=' + ' ' +  str(x+y) )"
      ],
      "metadata": {
        "colab": {
          "base_uri": "https://localhost:8080/"
        },
        "id": "nwIkyN-9eEMd",
        "outputId": "b40cb210-51b3-42a8-d8f6-11b773fae644"
      },
      "execution_count": null,
      "outputs": [
        {
          "output_type": "stream",
          "name": "stdout",
          "text": [
            "Hamid Mofidi\n",
            "x+y = 11\n",
            "11.3\n",
            "7+4.3=11.3\n",
            "7 + 4.3= 11.3\n"
          ]
        }
      ]
    },
    {
      "cell_type": "code",
      "source": [
        "# 'input' allows Python to input a value from user\n",
        "\n",
        "Inp_Num0 = input('Give me a number: ')\n",
        "Inp_Num1 = float(input('Give me another number: '))\n",
        "\n"
      ],
      "metadata": {
        "colab": {
          "base_uri": "https://localhost:8080/"
        },
        "id": "T6R4lirukPsC",
        "outputId": "acd0306a-5832-4044-9c18-94af7b52062c"
      },
      "execution_count": null,
      "outputs": [
        {
          "name": "stdout",
          "output_type": "stream",
          "text": [
            "Give me a number: 33\n",
            "Give me another number: 33\n"
          ]
        }
      ]
    },
    {
      "cell_type": "code",
      "source": [
        "print(Inp_Num0)\n",
        "print(Inp_Num1)\n",
        "print(type(Inp_Num0))\n",
        "print(type(Inp_Num1))\n",
        "Inp_Num2 = float(Inp_Num0)\n",
        "print(type(Inp_Num2))\n",
        "#Inp_Num0 + 4  does not make sense bcs Inp_Num0 is 'str'\n",
        "print(Inp_Num1 + 5)\n"
      ],
      "metadata": {
        "colab": {
          "base_uri": "https://localhost:8080/"
        },
        "id": "xosN__wrlIQz",
        "outputId": "d61494e4-28cf-4a32-8ef4-44778a92b1ba"
      },
      "execution_count": null,
      "outputs": [
        {
          "output_type": "stream",
          "name": "stdout",
          "text": [
            "33\n",
            "33.0\n",
            "<class 'str'>\n",
            "<class 'float'>\n",
            "<class 'float'>\n",
            "38.0\n"
          ]
        }
      ]
    },
    {
      "cell_type": "code",
      "source": [
        "# Making Lists\n",
        "alist = [ 2, 3, 4, 'hi', ['bye', 3, 3.4], -10.2] #you should used ',' to separate the elements of a list. You cannot use ';' or empty space\n",
        "print(type(alist))\n",
        "print(alist[0])\n",
        "print(type(alist[0]))\n",
        "print(alist[3])\n",
        "print(type(alist[3]))\n",
        "print(alist[4])\n",
        "print(type(alist[4]))\n",
        "\n",
        "list2= [4,\n",
        "        1, # a number\n",
        "        2,\n",
        "        'hi',\n",
        "        [1,2,3], # this is a list\n",
        "        4.5\n",
        "        ]\n",
        "type(list2)"
      ],
      "metadata": {
        "colab": {
          "base_uri": "https://localhost:8080/"
        },
        "id": "IGuheQ2s266k",
        "outputId": "f10744a9-3d2a-4b2d-f857-6eba54884231"
      },
      "execution_count": null,
      "outputs": [
        {
          "output_type": "stream",
          "name": "stdout",
          "text": [
            "<class 'list'>\n",
            "2\n",
            "<class 'int'>\n",
            "hi\n",
            "<class 'str'>\n",
            "['bye', 3, 3.4]\n",
            "<class 'list'>\n"
          ]
        },
        {
          "output_type": "execute_result",
          "data": {
            "text/plain": [
              "list"
            ]
          },
          "metadata": {},
          "execution_count": 32
        }
      ]
    },
    {
      "cell_type": "code",
      "source": [
        "print(3 in alist)\n",
        "print(3.3 not in alist)\n",
        "print(alist*2)\n",
        "print(alist + list2)\n",
        "print(len(alist))\n",
        "5 in alist\n"
      ],
      "metadata": {
        "colab": {
          "base_uri": "https://localhost:8080/"
        },
        "id": "rZCShMgI4xJz",
        "outputId": "7e423a37-f260-494b-d23e-6fa8d9faf166"
      },
      "execution_count": null,
      "outputs": [
        {
          "output_type": "stream",
          "name": "stdout",
          "text": [
            "True\n",
            "True\n",
            "[2, 3, 4, 'hi', ['bye', 3, 3.4], -10.2, 2, 3, 4, 'hi', ['bye', 3, 3.4], -10.2]\n",
            "[2, 3, 4, 'hi', ['bye', 3, 3.4], -10.2, 4, 1, 2, 'hi', [1, 2, 3], 4.5]\n",
            "6\n"
          ]
        },
        {
          "output_type": "execute_result",
          "data": {
            "text/plain": [
              "False"
            ]
          },
          "metadata": {},
          "execution_count": 33
        }
      ]
    },
    {
      "cell_type": "code",
      "source": [
        "# method:\n",
        "# A 'method' in Python is a function that is associated with an object and can manipulate its data or perform actions on it\n",
        "# They are called using dot notation, with the object name followed by a period and the method name.\n",
        "lst= [2, -1, 2,  23, 4.5, 2, -5 ]\n",
        "lst.append(18)\n",
        "print(lst)\n",
        "\n",
        "lst.insert(3,1.5) #it finds the third element which is 2, and put 2.5 after 2.\n",
        "print(lst)\n",
        "\n",
        "lst.sort()\n",
        "print(lst)\n",
        "lst.sort(reverse=True)\n",
        "print(lst)\n",
        "\n",
        "lst.remove(2)\n",
        "print(lst)\n",
        "print(lst.count(-3))\n",
        "lst.count(2)"
      ],
      "metadata": {
        "colab": {
          "base_uri": "https://localhost:8080/"
        },
        "id": "iVn-ELpj5_tN",
        "outputId": "4d4b09b1-4d03-4271-ce97-b5e89c2ee894"
      },
      "execution_count": null,
      "outputs": [
        {
          "output_type": "stream",
          "name": "stdout",
          "text": [
            "[2, -1, 2, 23, 4.5, 2, -5, 18]\n",
            "[2, -1, 2, 1.5, 23, 4.5, 2, -5, 18]\n",
            "[-5, -1, 1.5, 2, 2, 2, 4.5, 18, 23]\n",
            "[23, 18, 4.5, 2, 2, 2, 1.5, -1, -5]\n",
            "[23, 18, 4.5, 2, 2, 1.5, -1, -5]\n",
            "0\n"
          ]
        },
        {
          "output_type": "execute_result",
          "data": {
            "text/plain": [
              "2"
            ]
          },
          "metadata": {},
          "execution_count": 36
        }
      ]
    },
    {
      "cell_type": "markdown",
      "source": [
        "**Tuple:**\n",
        "A tuple in Python is created by placing a sequence of values separated by commas with or without the use of parentheses for grouping the data sequence. A tuple is similar to a list in some ways, such as indexing, nested objects, and repetition, but the main difference is that a tuple is immutable, meaning that it cannot be changed once it is created."
      ],
      "metadata": {
        "id": "Omeaw1Lu86Ub"
      }
    },
    {
      "cell_type": "code",
      "source": [
        "atuple = (2, 3, 'hi')\n",
        "btuple = -1, 3, 'hey'\n",
        "ctuple = [4, -1, 'Hello'] #this is a list, not a tuple\n",
        "atuple = (2, 4, 'Hii') # Why could I change \"atuple\" then?!\n",
        "\n",
        "print(atuple)\n",
        "print(type(atuple))\n",
        "print(btuple)\n",
        "print(type(btuple))\n",
        "print(ctuple)\n",
        "print(type(ctuple))"
      ],
      "metadata": {
        "colab": {
          "base_uri": "https://localhost:8080/"
        },
        "id": "69BmHRwu-uGL",
        "outputId": "9021e436-99f7-42c2-cd96-eee865d7664f"
      },
      "execution_count": null,
      "outputs": [
        {
          "output_type": "stream",
          "name": "stdout",
          "text": [
            "(2, 4, 'Hii')\n",
            "<class 'tuple'>\n",
            "(-1, 3, 'hey')\n",
            "<class 'tuple'>\n",
            "[4, -1, 'Hello']\n",
            "<class 'list'>\n"
          ]
        }
      ]
    },
    {
      "cell_type": "code",
      "source": [
        "# Boolean\n",
        "t = True\n",
        "f = False\n",
        "\n",
        "x=7!=4\n",
        "print(x)  # Note that x is not 7; x is a True boolean statement which states 7 is not equal to 4\n",
        "\n",
        "%whos\n"
      ],
      "metadata": {
        "id": "F1PH3tEGlRVq",
        "outputId": "64d89318-32d5-486d-d2ad-94301a4059a9",
        "colab": {
          "base_uri": "https://localhost:8080/"
        }
      },
      "execution_count": null,
      "outputs": [
        {
          "output_type": "stream",
          "name": "stdout",
          "text": [
            "True\n",
            "Variable         Type     Data/Info\n",
            "-----------------------------------\n",
            "D                dict     n=2\n",
            "Inp_Num0         str      33\n",
            "Inp_Num1         float    33.0\n",
            "Inp_Num2         float    33.0\n",
            "My_family_name   str      Mofidi\n",
            "My_first_name    str      Hamid\n",
            "User_name        str      My name is Hamid\n",
            "a                int      8\n",
            "aVariableName    str      hello\n",
            "alist            list     n=6\n",
            "atuple           tuple    n=3\n",
            "b                int      9\n",
            "btuple           tuple    n=3\n",
            "c                int      7\n",
            "ctuple           list     n=3\n",
            "d                float    7.0\n",
            "f                bool     False\n",
            "list2            list     n=6\n",
            "lst              list     n=8\n",
            "t                bool     True\n",
            "varA             int      4\n",
            "varB             str      test\n",
            "varC             int      5\n",
            "varD             str      test2\n",
            "x                bool     True\n",
            "y                float    4.3\n"
          ]
        }
      ]
    },
    {
      "cell_type": "code",
      "source": [
        "# Conjunctive comparison\n",
        "x = 10\n",
        "y = 16\n",
        "print(bool(0))   #bool(0): 0 is the only 'number' for which bool is false; sub 0 by any other numbers to get true\n",
        "print(bool(''))  #bool(''): '' is the only 'string' for which bool is false; sub '' by any other terms to get true\n",
        "print(bool('false'))  # the output is true\n",
        "print(x<12 and y>15 and x+y>25)\n",
        "x<8 or y>15\n"
      ],
      "metadata": {
        "id": "twZ98EkPntyV",
        "outputId": "f10f71f9-02a8-454d-bc7b-33fd66a03495",
        "colab": {
          "base_uri": "https://localhost:8080/"
        }
      },
      "execution_count": null,
      "outputs": [
        {
          "output_type": "stream",
          "name": "stdout",
          "text": [
            "False\n",
            "False\n",
            "True\n",
            "True\n"
          ]
        },
        {
          "output_type": "execute_result",
          "data": {
            "text/plain": [
              "True"
            ]
          },
          "metadata": {},
          "execution_count": 45
        }
      ]
    },
    {
      "cell_type": "code",
      "source": [
        "# Dictionary: key/value pairs\n",
        "D = dict()\n",
        "D\n",
        "# list []\n",
        "# tuples ()\n",
        "# dictionaries {}"
      ],
      "metadata": {
        "id": "14z6QgI1yKHW",
        "outputId": "bfe16ee7-b9bd-440a-db06-422cc2137c83",
        "colab": {
          "base_uri": "https://localhost:8080/"
        }
      },
      "execution_count": null,
      "outputs": [
        {
          "output_type": "execute_result",
          "data": {
            "text/plain": [
              "{}"
            ]
          },
          "metadata": {},
          "execution_count": 46
        }
      ]
    },
    {
      "cell_type": "code",
      "source": [
        "# key       # value\n",
        "D['name'] = 'Hamid' # this is a dictionary that has one element in it\n",
        "D['age_range'] = [30,50]\n",
        "print(D)\n",
        "print('name' in D)\n",
        "print(D.keys())\n",
        "print(D.values())\n",
        "D.items()"
      ],
      "metadata": {
        "id": "ZMWu7oDIyw1U",
        "outputId": "594a2941-208c-42eb-dc8f-8a5a57c018c4",
        "colab": {
          "base_uri": "https://localhost:8080/"
        }
      },
      "execution_count": null,
      "outputs": [
        {
          "output_type": "stream",
          "name": "stdout",
          "text": [
            "{'name': 'Hamid', 'age_range': [30, 50]}\n",
            "True\n",
            "dict_keys(['name', 'age_range'])\n",
            "dict_values(['Hamid', [30, 50]])\n"
          ]
        },
        {
          "output_type": "execute_result",
          "data": {
            "text/plain": [
              "dict_items([('name', 'Hamid'), ('age_range', [30, 50])])"
            ]
          },
          "metadata": {},
          "execution_count": 47
        }
      ]
    }
  ]
}
