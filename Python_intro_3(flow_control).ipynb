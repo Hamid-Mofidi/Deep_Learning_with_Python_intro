{
  "nbformat": 4,
  "nbformat_minor": 0,
  "metadata": {
    "colab": {
      "provenance": [],
      "authorship_tag": "ABX9TyPXzZ3/sMyGrHTVed7CHs1H",
      "include_colab_link": true
    },
    "kernelspec": {
      "name": "python3",
      "display_name": "Python 3"
    },
    "language_info": {
      "name": "python"
    }
  },
  "cells": [
    {
      "cell_type": "markdown",
      "metadata": {
        "id": "view-in-github",
        "colab_type": "text"
      },
      "source": [
        "<a href=\"https://colab.research.google.com/github/Hamid-Mofidi/Python_Intro/blob/main/Python_intro_3(flow_control).ipynb\" target=\"_parent\"><img src=\"https://colab.research.google.com/assets/colab-badge.svg\" alt=\"Open In Colab\"/></a>"
      ]
    },
    {
      "cell_type": "code",
      "execution_count": null,
      "metadata": {
        "colab": {
          "base_uri": "https://localhost:8080/"
        },
        "id": "kPHBMa7AgUIM",
        "outputId": "199a7e88-b0c7-41c0-9534-0922fef83be0"
      },
      "outputs": [
        {
          "output_type": "stream",
          "name": "stdout",
          "text": [
            "Enter the value of x: 3\n",
            "Enter the value of y: 4\n",
            "<class 'float'>\n",
            "Good!\n",
            "GoodGood!\n"
          ]
        }
      ],
      "source": [
        "x = float(input('Enter the value of x: '))\n",
        "y = float(input('Enter the value of y: '))\n",
        "print(type(x))\n",
        "\n",
        "if x**2 -1 > y:\n",
        "  print('Good!')\n",
        "else:\n",
        "  print('What is wrong?!')\n",
        "\n",
        "\n",
        "#the other way to this is as follows:\n",
        "print('GoodGood!') if x**2 - 1> y  else print('What is realy wrong?!')\n"
      ]
    },
    {
      "cell_type": "code",
      "source": [
        "import numpy as np\n",
        "\n",
        "ns = np.linspace(-5,5,7)\n",
        "\n",
        "for I in range(len(ns)):\n",
        "  print('Index ' + str(I) + ' has a value of ' + str(ns[I]))\n"
      ],
      "metadata": {
        "colab": {
          "base_uri": "https://localhost:8080/"
        },
        "id": "CHIxK2Onr1li",
        "outputId": "956d2419-baf8-4387-a6f6-48a09f957d60"
      },
      "execution_count": null,
      "outputs": [
        {
          "output_type": "stream",
          "name": "stdout",
          "text": [
            "Index 0 has a value of -5.0\n",
            "Index 1 has a value of -3.333333333333333\n",
            "Index 2 has a value of -1.6666666666666665\n",
            "Index 3 has a value of 0.0\n",
            "Index 4 has a value of 1.666666666666667\n",
            "Index 5 has a value of 3.333333333333334\n",
            "Index 6 has a value of 5.0\n"
          ]
        }
      ]
    },
    {
      "cell_type": "code",
      "source": [
        "# Let's do the above 'for' loop by using enumerate:\n",
        "\n",
        "for I,n in enumerate(ns):  # this is what enumerates does: n=ns[I]\n",
        "  print('Index ' + str(I) + ' has a value of ' + str(n))\n"
      ],
      "metadata": {
        "colab": {
          "base_uri": "https://localhost:8080/"
        },
        "id": "iekpMWBEspQ2",
        "outputId": "8eca3296-d7f8-404a-f8ab-06453dd78f6e"
      },
      "execution_count": null,
      "outputs": [
        {
          "output_type": "stream",
          "name": "stdout",
          "text": [
            "Index 0 has a value of -5.0\n",
            "Index 1 has a value of -3.333333333333333\n",
            "Index 2 has a value of -1.6666666666666665\n",
            "Index 3 has a value of 0.0\n",
            "Index 4 has a value of 1.666666666666667\n",
            "Index 5 has a value of 3.333333333333334\n",
            "Index 6 has a value of 5.0\n"
          ]
        }
      ]
    },
    {
      "cell_type": "code",
      "source": [
        "for i in range(10):\n",
        "  if i%2 == 0:\n",
        "    continue    # when Python encounters the world 'continue' inside a\n",
        "                # a loop, what it is actually going to do is not continue.\n",
        "  print(i)"
      ],
      "metadata": {
        "colab": {
          "base_uri": "https://localhost:8080/"
        },
        "id": "dfZfwXo4zSBN",
        "outputId": "8b41533e-23fe-4504-86eb-e6884c88bf6d"
      },
      "execution_count": null,
      "outputs": [
        {
          "output_type": "stream",
          "name": "stdout",
          "text": [
            "1\n",
            "3\n",
            "5\n",
            "7\n",
            "9\n"
          ]
        }
      ]
    },
    {
      "cell_type": "code",
      "source": [
        "# initialization\n",
        "import numpy as np\n",
        "\n",
        "r1 = np.zeros(4)\n",
        "print(r1)\n",
        "\n",
        "r2 = np.full(3,4.2)\n",
        "print(r2)\n",
        "\n",
        "del r2 # this removes the variable r2 and it does not exist anymore if \n",
        "       # you ask to print(r2)\n",
        "\n"
      ],
      "metadata": {
        "id": "1WckeaTZ1K_s",
        "outputId": "e148709b-aae2-42f7-e9c8-72749b790192",
        "colab": {
          "base_uri": "https://localhost:8080/"
        }
      },
      "execution_count": 6,
      "outputs": [
        {
          "output_type": "stream",
          "name": "stdout",
          "text": [
            "[0. 0. 0. 0.]\n",
            "[4.2 4.2 4.2]\n"
          ]
        }
      ]
    }
  ]
}